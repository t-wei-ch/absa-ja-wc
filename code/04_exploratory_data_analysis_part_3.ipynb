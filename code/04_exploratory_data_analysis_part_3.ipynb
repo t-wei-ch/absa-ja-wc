{
 "cells": [
  {
   "cell_type": "markdown",
   "metadata": {},
   "source": [
    "## Imports"
   ]
  },
  {
   "cell_type": "code",
   "execution_count": 2,
   "metadata": {},
   "outputs": [
    {
     "name": "stdout",
     "output_type": "stream",
     "text": [
      "WARNING:tensorflow:From c:\\Users\\weich\\anaconda3\\Lib\\site-packages\\keras\\src\\losses.py:2976: The name tf.losses.sparse_softmax_cross_entropy is deprecated. Please use tf.compat.v1.losses.sparse_softmax_cross_entropy instead.\n",
      "\n"
     ]
    }
   ],
   "source": [
    "import numpy as np\n",
    "import pandas as pd\n",
    "import matplotlib.pyplot as plt\n",
    "import seaborn as sns\n",
    "\n",
    "# Increase data frame column width:\n",
    "pd.set_option('max_colwidth', 400)\n",
    "\n",
    "import re\n",
    "\n",
    "# for tokenization\n",
    "from sklearn.feature_extraction.text import CountVectorizer\n",
    "# natto-py\n",
    "import natto\n",
    "from natto import MeCab\n",
    "\n",
    "# for sentiment analysis\n",
    "# oseti\n",
    "import oseti\n",
    "# asari\n",
    "from asari.api import Sonar\n",
    "\n",
    "# deep-translator, interfacing with Google Translate\n",
    "# for japanese-english translation\n",
    "from deep_translator import GoogleTranslator\n",
    "\n",
    "# VADER\n",
    "# for english sentiment analysis\n",
    "from vaderSentiment.vaderSentiment import SentimentIntensityAnalyzer\n",
    "\n",
    "import os\n",
    "# this explicitly tells python where to find the MeCab dictionary\n",
    "# replace with the path to the libmecab.dll if you get an error running the MeCab() instantiation below\n",
    "os.environ['MECAB_PATH']=\"C:/Program Files/MeCab/bin/libmecab.dll\"\n",
    "# we need to force MeCab to read Japanese text in UTF-8\n",
    "os.environ['MECAB_CHARSET']='utf-8'"
   ]
  },
  {
   "cell_type": "markdown",
   "metadata": {},
   "source": [
    "### Comparing Japanese Sentiments and Translated English Sentiments\n",
    "\n",
    "In this section, we compare how the Japanese sentiment analyzers on Japanese reviews perform against the English sentiment analyzers on Japanese reviews translated to English.\n",
    "\n",
    "For the purposes of transparency, the translator we shall use is Google Translate from the `deep-translator` library, available [here](https://pypi.org/project/deep-translator/)."
   ]
  },
  {
   "cell_type": "markdown",
   "metadata": {},
   "source": [
    "First, we need to initialize our analyzers. For Japanese, we will be using `asari`, and for English, we will be using VADER's sentiment analyzer."
   ]
  },
  {
   "cell_type": "code",
   "execution_count": 3,
   "metadata": {},
   "outputs": [],
   "source": [
    "# japanese sentiment analyzer - asari\n",
    "analyzer_ja = Sonar()\n",
    "\n",
    "# english sentiment analyzer - VADER\n",
    "analyzer_en = SentimentIntensityAnalyzer()"
   ]
  },
  {
   "cell_type": "markdown",
   "metadata": {},
   "source": [
    "We also need to initialize our translator. This will be an API for Google Translate."
   ]
  },
  {
   "cell_type": "code",
   "execution_count": 4,
   "metadata": {},
   "outputs": [],
   "source": [
    "# Japanese source to English target\n",
    "translator = GoogleTranslator(source='ja', target='en')"
   ]
  },
  {
   "cell_type": "markdown",
   "metadata": {},
   "source": [
    "We also introduce our test subject here - a review in the Japanese language."
   ]
  },
  {
   "cell_type": "code",
   "execution_count": 5,
   "metadata": {},
   "outputs": [],
   "source": [
    "test_review_1_ja = '【良かった点】・部屋から見える景色が素晴らしく大満足。・フロントの対応が丁寧。【気になった点】・全室禁煙を知らなかった（当方の確認不足もあるが）予約時に禁煙や喫煙の記載がなかったので気にしてなかったが、部屋に灰皿がないのでフロントに電話で聞いたところ、全室禁煙とのこと。施設外まで出る必要があり、イマイチのんびり出来なかった。・部屋の髪の毛白いソファーに長い髪の毛が2本。ソファーが白なので目立ちました。・食事の質とサービス食事の質は普通であり、量もちょうどよかったが、質は宿泊料金に見合ってないように感じた。食事会場では係の方全員が厨房側に入り、会場に誰もいない時間が多々あった。飲み物を追加したいが、係の人が来るまで5分程度待った（大声で呼ぶことも考えたが、周囲のお客様に迷惑と思った）。朝食は席に着いても説明がなく戸惑った。・感染対策浴場と脱衣所でマスクなしでの会話が目立つ（地元の日帰り客のようです）。地元の方にも人気のある温泉のようで夕方は混み合う。そして顔見知りの方々の会話が長く続いている。マスク無しでの会話について、ホテル側から特にお願いはないようです（張り紙とか何もなかった）。また、夕食、朝食会場の席が部屋番号ごとに指定されていたが、使ってない席もあるのに分散させていない。改善されれば幸いです。'\n"
   ]
  },
  {
   "cell_type": "markdown",
   "metadata": {},
   "source": [
    "This can be translated to English using Google Translate as well."
   ]
  },
  {
   "cell_type": "code",
   "execution_count": 6,
   "metadata": {},
   "outputs": [
    {
     "data": {
      "text/plain": [
       "\"[Good points] - The view from the room was wonderful and I was very satisfied. - Polite reception at the front desk. [Points that bothered me] - I didn't know that all rooms were non-smoking (although I didn't confirm this myself) There was no mention of non-smoking or smoking when I made the reservation, so I didn't worry about it, but there was no ashtray in the room, so I asked the front desk. When I asked over the phone, I was told that all rooms are non-smoking. I had to go outside the facility, so I couldn't really relax. - Hair in the room There are two long hairs on the white sofa. The sofa was white so it stood out.・Food quality and service The quality of the food was average and the quantity was just right, but I felt that the quality was not commensurate with the price of the room. At the meal venue, all staff members were in the kitchen, and there were many hours when no one was in the venue. I wanted to add another drink, but I had to wait about 5 minutes for the person in charge to come (I thought about calling out loud, but I thought it would be a nuisance to the customers around me). When I sat down for breakfast, there was no explanation and I was confused.・Infection prevention measures It was noticeable that people were talking without masks in the bathing area and changing room (they seemed to be local day trippers). It seems to be a popular hot spring with locals, so it gets crowded in the evening. And conversations between familiar faces continue for a long time. There doesn't seem to be any particular request from the hotel about talking without a mask (there was no sign or anything). Also, seats in the dinner and breakfast halls were designated by room number, but they were not distributed even though some seats were not used. I hope it improves.\""
      ]
     },
     "execution_count": 6,
     "metadata": {},
     "output_type": "execute_result"
    }
   ],
   "source": [
    "test_review_1_en = translator.translate(test_review_1_ja)\n",
    "test_review_1_en"
   ]
  },
  {
   "cell_type": "markdown",
   "metadata": {},
   "source": [
    "As we can see, Google Translate does a pretty good job at translating the text. Let's see how much better VADER fares compared to `asari`."
   ]
  },
  {
   "cell_type": "code",
   "execution_count": 7,
   "metadata": {},
   "outputs": [
    {
     "data": {
      "text/plain": [
       "{'text': '【良かった点】・部屋から見える景色が素晴らしく大満足。・フロントの対応が丁寧。【気になった点】・全室禁煙を知らなかった（当方の確認不足もあるが）予約時に禁煙や喫煙の記載がなかったので気にしてなかったが、部屋に灰皿がないのでフロントに電話で聞いたところ、全室禁煙とのこと。施設外まで出る必要があり、イマイチのんびり出来なかった。・部屋の髪の毛白いソファーに長い髪の毛が2本。ソファーが白なので目立ちました。・食事の質とサービス食事の質は普通であり、量もちょうどよかったが、質は宿泊料金に見合ってないように感じた。食事会場では係の方全員が厨房側に入り、会場に誰もいない時間が多々あった。飲み物を追加したいが、係の人が来るまで5分程度待った（大声で呼ぶことも考えたが、周囲のお客様に迷惑と思った）。朝食は席に着いても説明がなく戸惑った。・感染対策浴場と脱衣所でマスクなしでの会話が目立つ（地元の日帰り客のようです）。地元の方にも人気のある温泉のようで夕方は混み合う。そして顔見知りの方々の会話が長く続いている。マスク無しでの会話について、ホテル側から特にお願いはないようです（張り紙とか何もなかった）。また、夕食、朝食会場の席が部屋番号ごとに指定されていたが、使ってない席もあるのに分散させていない。改善されれば幸いです。',\n",
       " 'top_class': 'negative',\n",
       " 'classes': [{'class_name': 'negative', 'confidence': 0.5721551775932312},\n",
       "  {'class_name': 'positive', 'confidence': 0.4278448224067688}]}"
      ]
     },
     "execution_count": 7,
     "metadata": {},
     "output_type": "execute_result"
    }
   ],
   "source": [
    "# japanese sentiment\n",
    "analyzer_ja.ping(test_review_1_ja)"
   ]
  },
  {
   "cell_type": "code",
   "execution_count": 8,
   "metadata": {},
   "outputs": [
    {
     "data": {
      "text/plain": [
       "{'neg': 0.059, 'neu': 0.893, 'pos': 0.048, 'compound': -0.6075}"
      ]
     },
     "execution_count": 8,
     "metadata": {},
     "output_type": "execute_result"
    }
   ],
   "source": [
    "# english sentiment\n",
    "analyzer_en.polarity_scores(test_review_1_en)"
   ]
  },
  {
   "cell_type": "markdown",
   "metadata": {},
   "source": [
    "Following the process of assigning a sentiment score in EDA part 1, our Japanese analyzer would assign it a score of around -0.15, which is significantly less negative than the -0.6075 that VADER gives. \n",
    "\n",
    "Let's try it again with another review - this time looking at the review that was almost entirely on the room."
   ]
  },
  {
   "cell_type": "code",
   "execution_count": 9,
   "metadata": {},
   "outputs": [
    {
     "data": {
      "text/plain": [
       "\"I made a reservation for the room. When I opened the door to the room, it was a very large room. There were two chairs in front of the washroom. One was a chair like the one you would find at a business hotel, and the other was a chair used by people who needed nursing care. I felt a sense of discomfort when I saw that. When I took a closer look at the room, toilet, and bath, I found that it was a barrier-free room. It felt like I was in a private room at a nursing home or hospital. I only stayed at the hotel for one day out of a 10-day trip, but it ruined the fun of the trip. I felt sick when I saw that chair, so I moved it to an entrance where I couldn't see it. I didn't even feel like taking a bath. It would make sense if she was over 70 years old, but she's not that old in this room. It was extremely uncomfortable. I feel depressed. Also, it felt strange to have nightwear, bath towels, slippers, etc. on the bed. If you accidentally take a bath and your bath towel is on the bed, you will feel like you have to go to get the bath towel in a wet state. There was a similar review before, but it hasn't been improved at all. I can't accept another 100 yen coffee. There are hotels that even offer free alcohol as a welcome drink, so it's hard to buy coffee for 100 yen. This was also mentioned in the previous review. Anyway, it was an unpleasant hotel. Even if you post a review, there is no reply to the inconvenient review. Are you turning a blind eye?\""
      ]
     },
     "execution_count": 9,
     "metadata": {},
     "output_type": "execute_result"
    }
   ],
   "source": [
    "test_review_2_ja = 'お部屋おまかせで予約をしました。部屋のドアを開けると凄く広い部屋でした。洗面所の前に椅子が2つありました。ひとつは普通にビジホにある様な椅子で、もうひとつは介護が必要な人が使うような椅子。それをみて違和感をおぼえました。部屋の中やトイレ、お風呂をじっくりみてみるとバリアフリーの部屋でした。まるで介護施設か病院の個室にいるような感じでした。約10日間の旅行の内の1日だけのホテルでしたが、旅行の楽しい気分が台無しになりました。その椅子を見ると気分悪くなるので見えない入口に移動させました。お風呂も入る気になれなかった。年齢が70超えているのなら納得しますがそこまで老いていないのにこの部屋。めちゃくちゃ居心地悪かった。気分だだ下がり。後、ベットの上にナイトウエアバスタオル、スリッパ等置いてあるのも違和感です。バスタオルがベッドの上にあるとうっかりお風呂入ってしまうと濡れた状態でバスタオル取りに行く感じになります。前にも同じようなクチコミがありましたが全く改善されていません。後もう1つコーヒー100円納得いかない。ウエルカムドリンクでアルコールまで無料で提供するホテルもあるのに100円でコーヒー買うなんてほんと有り得ない。これも前のクチコミにありました。とにかく不愉快なホテルでした。とクチコミを投稿しても都合の悪いクチコミには返信もないのですね。見て見ぬふりですか'\n",
    "test_review_2_en = translator.translate(test_review_2_ja)\n",
    "test_review_2_en"
   ]
  },
  {
   "cell_type": "code",
   "execution_count": 10,
   "metadata": {},
   "outputs": [
    {
     "data": {
      "text/plain": [
       "['I made a reservation for the room',\n",
       " 'When I opened the door to the room, it was a very large room',\n",
       " 'There were two chairs in front of the washroom',\n",
       " 'One was a chair like the one you would find at a business hotel, and the other was a chair used by people who needed nursing care',\n",
       " 'I felt a sense of discomfort when I saw that',\n",
       " 'When I took a closer look at the room, toilet, and bath, I found that it was a barrier-free room',\n",
       " 'It felt like I was in a private room at a nursing home or hospital',\n",
       " 'I only stayed at the hotel for one day out of a 10-day trip, but it ruined the fun of the trip',\n",
       " \"I felt sick when I saw that chair, so I moved it to an entrance where I couldn't see it\",\n",
       " \"I didn't even feel like taking a bath\",\n",
       " \"It would make sense if she was over 70 years old, but she's not that old in this room\",\n",
       " 'It was extremely uncomfortable',\n",
       " 'I feel depressed',\n",
       " 'Also, it felt strange to have nightwear, bath towels, slippers, etc',\n",
       " 'on the bed',\n",
       " 'If you accidentally take a bath and your bath towel is on the bed, you will feel like you have to go to get the bath towel in a wet state',\n",
       " \"There was a similar review before, but it hasn't been improved at all\",\n",
       " \"I can't accept another 100 yen coffee\",\n",
       " \"There are hotels that even offer free alcohol as a welcome drink, so it's hard to buy coffee for 100 yen\",\n",
       " 'This was also mentioned in the previous review',\n",
       " 'Anyway, it was an unpleasant hotel',\n",
       " 'Even if you post a review, there is no reply to the inconvenient review',\n",
       " 'Are you turning a blind eye?']"
      ]
     },
     "execution_count": 10,
     "metadata": {},
     "output_type": "execute_result"
    }
   ],
   "source": [
    "[sentence for sentence in test_review_2_en.split('. ')]"
   ]
  },
  {
   "cell_type": "code",
   "execution_count": 11,
   "metadata": {},
   "outputs": [
    {
     "data": {
      "text/plain": [
       "{'text': 'お部屋おまかせで予約をしました。部屋のドアを開けると凄く広い部屋でした。洗面所の前に椅子が2つありました。ひとつは普通にビジホにある様な椅子で、もうひとつは介護が必要な人が使うような椅子。それをみて違和感をおぼえました。部屋の中やトイレ、お風呂をじっくりみてみるとバリアフリーの部屋でした。まるで介護施設か病院の個室にいるような感じでした。約10日間の旅行の内の1日だけのホテルでしたが、旅行の楽しい気分が台無しになりました。その椅子を見ると気分悪くなるので見えない入口に移動させました。お風呂も入る気になれなかった。年齢が70超えているのなら納得しますがそこまで老いていないのにこの部屋。めちゃくちゃ居心地悪かった。気分だだ下がり。後、ベットの上にナイトウエアバスタオル、スリッパ等置いてあるのも違和感です。バスタオルがベッドの上にあるとうっかりお風呂入ってしまうと濡れた状態でバスタオル取りに行く感じになります。前にも同じようなクチコミがありましたが全く改善されていません。後もう1つコーヒー100円納得いかない。ウエルカムドリンクでアルコールまで無料で提供するホテルもあるのに100円でコーヒー買うなんてほんと有り得ない。これも前のクチコミにありました。とにかく不愉快なホテルでした。とクチコミを投稿しても都合の悪いクチコミには返信もないのですね。見て見ぬふりですか',\n",
       " 'top_class': 'negative',\n",
       " 'classes': [{'class_name': 'negative', 'confidence': 0.5619028210639954},\n",
       "  {'class_name': 'positive', 'confidence': 0.4380972385406494}]}"
      ]
     },
     "execution_count": 11,
     "metadata": {},
     "output_type": "execute_result"
    }
   ],
   "source": [
    "# japanese sentiment\n",
    "analyzer_ja.ping(test_review_2_ja)"
   ]
  },
  {
   "cell_type": "code",
   "execution_count": 12,
   "metadata": {},
   "outputs": [
    {
     "data": {
      "text/plain": [
       "{'neg': 0.14, 'neu': 0.797, 'pos': 0.063, 'compound': -0.9793}"
      ]
     },
     "execution_count": 12,
     "metadata": {},
     "output_type": "execute_result"
    }
   ],
   "source": [
    "# english sentiment\n",
    "analyzer_en.polarity_scores(test_review_2_en)"
   ]
  },
  {
   "cell_type": "markdown",
   "metadata": {},
   "source": [
    "This is surprisingly rather accurate to the actual sentiment of the sentence, though we would need to perform a more complete statistical analysis in order to confirm it."
   ]
  },
  {
   "cell_type": "markdown",
   "metadata": {},
   "source": [
    "In fact, let us populate seven more sentiment scores, this time by translating each sentence into English first, then running it through VADER."
   ]
  },
  {
   "cell_type": "code",
   "execution_count": 13,
   "metadata": {},
   "outputs": [],
   "source": [
    "# aspect categories\n",
    "aspect_words = {\n",
    "    'service': ['サービス', 'スタッフ', 'フロント', 'チェックイン', '丁寧', '親切', '接客', 'サーバ'],\n",
    "    'location': ['立地', '駅', 'バス', '近く', '便利', '駐車', 'コンビニ', '場所'],\n",
    "    'room': ['部屋', '広い', '宿泊', 'ベッド', '値段'], \n",
    "    'amenities': ['アメニティ', '無料'],\n",
    "    'bathroom': ['風呂', '温泉', '浴場', '露天風呂', '清潔', '湯', 'トイレ'],\n",
    "    'food': ['朝食', '食事', '料理', '夕食', 'バイキング', 'メニュー', 'ご飯', '酒', '飲']\n",
    "}"
   ]
  },
  {
   "cell_type": "code",
   "execution_count": 14,
   "metadata": {},
   "outputs": [],
   "source": [
    "def has_aspect(aspect: str, text: str):\n",
    "    '''Returns a boolean describing whether a document contains an aspect word or not\n",
    "    '''\n",
    "    # this returns True if it exists in the list\n",
    "    # otherwise returns False\n",
    "    return max([(word in text) for word in aspect_words[aspect]])"
   ]
  },
  {
   "cell_type": "code",
   "execution_count": 15,
   "metadata": {},
   "outputs": [],
   "source": [
    "# assigning aspects to each sentence in the review that has any\n",
    "def label_aspects_sentence(text):\n",
    "    '''Returns a dictionary of aspects in `text` with their corresponding sentences.\n",
    "    '''\n",
    "    list_of_aspects = [aspect for aspect in aspect_words if has_aspect(aspect, text)]\n",
    "    \n",
    "    aspect_decomposition = {}\n",
    "\n",
    "    for sentence in re.split('。', text):\n",
    "        for aspect in list_of_aspects:\n",
    "            # all we did here is to swap the aspects and the sentences in the key:value pairs\n",
    "            if aspect not in aspect_decomposition and has_aspect(aspect, sentence):\n",
    "                aspect_decomposition[aspect] = [sentence]\n",
    "            elif aspect in aspect_decomposition and has_aspect(aspect, sentence):\n",
    "                aspect_decomposition[aspect].append(sentence)\n",
    "    \n",
    "    return aspect_decomposition"
   ]
  },
  {
   "cell_type": "code",
   "execution_count": 16,
   "metadata": {},
   "outputs": [],
   "source": [
    "def compute_aspect_sentiment_score_en(row, translator: GoogleTranslator, analyzer: SentimentIntensityAnalyzer, aspect: str):\n",
    "    '''Uses the VADER sentiment analyzer to assign each review an \n",
    "    averaged sentiment score from all the sentences with a specific aspect `aspect`. \n",
    "\n",
    "    This requires instantiations of the following:\n",
    "    - GoogleTranslator from deep-translator\n",
    "    - SentimentIntensityAnalyzer object from VADER.\n",
    "\n",
    "    To be used with `df.apply()`.\n",
    "    '''\n",
    "\n",
    "    review_text = row['review_text']\n",
    "\n",
    "    # extracts all the aspects present in the review\n",
    "    # together with their corresponding sentences in the review\n",
    "    aspect_sectence_dict = label_aspects_sentence(review_text)\n",
    "\n",
    "    ##############################################################################\n",
    "    # helper function to extract positive and negative sentiment confidence scores\n",
    "    def get_compound_sentiment(text):\n",
    "        '''This is a helper function to extract out the positive and negative sentiment confidence levels in `text`.\n",
    "\n",
    "        Returns\n",
    "        ---\n",
    "        A tuple `(pos, neg)`, where `pos` is the positive sentiment confidence, and `neg` is the negative sentiment confidence.\n",
    "        '''\n",
    "        sentiment_data = analyzer.polarity_scores(text)\n",
    "\n",
    "        return sentiment_data['compound']\n",
    "    ##############################################################################\n",
    "\n",
    "    if aspect == 'all':\n",
    "        review_text_en = translator.translate(review_text)\n",
    "        net_sentiment = get_compound_sentiment(review_text_en)\n",
    "        return net_sentiment\n",
    "    \n",
    "    # checks if the review contains the given aspect\n",
    "    elif aspect in aspect_sectence_dict:\n",
    "        sentiments = []\n",
    "        for sentence in aspect_sectence_dict[aspect]:\n",
    "            sentence_en = translator.translate(sentence)\n",
    "            net_sentiment = get_compound_sentiment(sentence_en)\n",
    "            sentiments.append(net_sentiment)\n",
    "        \n",
    "        return np.mean(sentiments)\n",
    "    \n",
    "    else: # if aspect is not present in review\n",
    "        return 0\n"
   ]
  },
  {
   "cell_type": "code",
   "execution_count": 17,
   "metadata": {},
   "outputs": [],
   "source": [
    "# helper lookup table for easier population\n",
    "aspect_lookup_table = {\n",
    "    'all': 'overall',\n",
    "    'service': 'service',\n",
    "    'location': 'location',\n",
    "    'room': 'room',\n",
    "    'amenities': 'amenities',\n",
    "    'bathroom': 'bathroom',\n",
    "    'food': 'food'\n",
    "}"
   ]
  },
  {
   "cell_type": "code",
   "execution_count": 18,
   "metadata": {},
   "outputs": [
    {
     "data": {
      "text/plain": [
       "{'service': ['日本酒の飲み比べサーバは良かったです'],\n",
       " 'food': ['日本酒の飲み比べサーバは良かったです'],\n",
       " 'room': ['また、部屋もきれいでスマホ充電など細かな気遣いも良かったです']}"
      ]
     },
     "execution_count": 18,
     "metadata": {},
     "output_type": "execute_result"
    }
   ],
   "source": [
    "label_aspects_sentence('日本酒の飲み比べサーバは良かったです。また、部屋もきれいでスマホ充電など細かな気遣いも良かったです')"
   ]
  },
  {
   "cell_type": "markdown",
   "metadata": {},
   "source": [
    "We shall stop here for now and leave this effort to future work, as the translator takes too long to run for all the texts, and running it on a small sample of text is not really illuminating enough for us to perform any statistical analysis."
   ]
  }
 ],
 "metadata": {
  "kernelspec": {
   "display_name": "base",
   "language": "python",
   "name": "python3"
  },
  "language_info": {
   "codemirror_mode": {
    "name": "ipython",
    "version": 3
   },
   "file_extension": ".py",
   "mimetype": "text/x-python",
   "name": "python",
   "nbconvert_exporter": "python",
   "pygments_lexer": "ipython3",
   "version": "3.11.5"
  }
 },
 "nbformat": 4,
 "nbformat_minor": 2
}
