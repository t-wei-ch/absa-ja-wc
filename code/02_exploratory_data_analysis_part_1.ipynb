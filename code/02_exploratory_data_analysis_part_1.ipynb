{
 "cells": [
  {
   "cell_type": "markdown",
   "metadata": {},
   "source": [
    "# Imports"
   ]
  },
  {
   "cell_type": "code",
   "execution_count": 2,
   "metadata": {},
   "outputs": [
    {
     "name": "stdout",
     "output_type": "stream",
     "text": [
      "WARNING:tensorflow:From c:\\Users\\weich\\anaconda3\\Lib\\site-packages\\keras\\src\\losses.py:2976: The name tf.losses.sparse_softmax_cross_entropy is deprecated. Please use tf.compat.v1.losses.sparse_softmax_cross_entropy instead.\n",
      "\n"
     ]
    }
   ],
   "source": [
    "import numpy as np\n",
    "import pandas as pd\n",
    "import matplotlib.pyplot as plt\n",
    "import seaborn as sns\n",
    "\n",
    "import re\n",
    "\n",
    "# for tokenization\n",
    "from sklearn.feature_extraction.text import CountVectorizer\n",
    "# natto-py\n",
    "import natto\n",
    "from natto import MeCab\n",
    "\n",
    "# for sentiment analysis\n",
    "# oseti\n",
    "import oseti\n",
    "# asari\n",
    "from asari.api import Sonar\n",
    "\n",
    "import os\n",
    "# this explicitly tells python where to find the MeCab dictionary\n",
    "# replace with the path to the libmecab.dll if you get an error running the MeCab() instantiation below\n",
    "os.environ['MECAB_PATH']=\"C:/Program Files/MeCab/bin/libmecab.dll\"\n",
    "# we need to force MeCab to read Japanese text in UTF-8\n",
    "os.environ['MECAB_CHARSET']='utf-8'"
   ]
  },
  {
   "cell_type": "code",
   "execution_count": 3,
   "metadata": {},
   "outputs": [],
   "source": [
    "# Increase dataframe column width:\n",
    "pd.set_option('max_colwidth', 400)"
   ]
  },
  {
   "cell_type": "markdown",
   "metadata": {},
   "source": [
    "### Reading in the data"
   ]
  },
  {
   "cell_type": "code",
   "execution_count": 4,
   "metadata": {},
   "outputs": [],
   "source": [
    "tohoku_reviews_df = pd.read_csv('../datasets/rakuten_tohoku_reviews_replies.csv')"
   ]
  },
  {
   "cell_type": "code",
   "execution_count": 5,
   "metadata": {},
   "outputs": [
    {
     "data": {
      "text/plain": [
       "(7340, 14)"
      ]
     },
     "execution_count": 5,
     "metadata": {},
     "output_type": "execute_result"
    }
   ],
   "source": [
    "tohoku_reviews_df.shape"
   ]
  },
  {
   "cell_type": "code",
   "execution_count": 6,
   "metadata": {},
   "outputs": [
    {
     "data": {
      "text/html": [
       "<div>\n",
       "<style scoped>\n",
       "    .dataframe tbody tr th:only-of-type {\n",
       "        vertical-align: middle;\n",
       "    }\n",
       "\n",
       "    .dataframe tbody tr th {\n",
       "        vertical-align: top;\n",
       "    }\n",
       "\n",
       "    .dataframe thead th {\n",
       "        text-align: right;\n",
       "    }\n",
       "</style>\n",
       "<table border=\"1\" class=\"dataframe\">\n",
       "  <thead>\n",
       "    <tr style=\"text-align: right;\">\n",
       "      <th></th>\n",
       "      <th>review_id</th>\n",
       "      <th>review_time</th>\n",
       "      <th>review_text</th>\n",
       "      <th>hotel_reply_time</th>\n",
       "      <th>hotel_reply_text</th>\n",
       "      <th>hotel_name</th>\n",
       "      <th>prefecture</th>\n",
       "      <th>overall_score</th>\n",
       "      <th>service_score</th>\n",
       "      <th>location_score</th>\n",
       "      <th>room_score</th>\n",
       "      <th>amenities_score</th>\n",
       "      <th>bathroom_score</th>\n",
       "      <th>food_score</th>\n",
       "    </tr>\n",
       "  </thead>\n",
       "  <tbody>\n",
       "    <tr>\n",
       "      <th>0</th>\n",
       "      <td>voteans_21301527</td>\n",
       "      <td>2024-02-18 01:26:29</td>\n",
       "      <td>家族でのんびり過ごせて良かったです。お料理が美味しかったし、景色も美しかったです。温泉は思ったよりも小さかったですが、泉質は結構よかった。</td>\n",
       "      <td>NaN</td>\n",
       "      <td>NaN</td>\n",
       "      <td>鶴の舞橋と岩木山　絶景の宿　つがる富士見荘</td>\n",
       "      <td>aomori</td>\n",
       "      <td>4</td>\n",
       "      <td>4</td>\n",
       "      <td>4</td>\n",
       "      <td>4</td>\n",
       "      <td>4</td>\n",
       "      <td>4</td>\n",
       "      <td>5</td>\n",
       "    </tr>\n",
       "    <tr>\n",
       "      <th>1</th>\n",
       "      <td>voteans_21251321</td>\n",
       "      <td>2024-01-29 12:03:50</td>\n",
       "      <td>ロビーからの鶴の舞橋の景観が素晴らしく、雪景色もあって楽しめました。食事も満腹となるほどの量・品数があり、いずれも美味でした。近くに鶴の飼育もなされており、鶴の鳴き合いの声を聴きながらの散策も特別な雰囲気を感じました。、</td>\n",
       "      <td>2024-02-15 18:11:20</td>\n",
       "      <td>この度は当館にご宿泊いただき誠にありがとうございます。ロビーから見える鶴の舞橋と雪化粧した岩木山の姿は、私共も見ていて飽きないほどです。また、お食事の面でもお客様にご満足いただけたようで大変嬉しく思います。丹頂鶴自然公園は1年を通して鶴とのふれあいを楽しめますので、ご機会がございましたらまたのお越しを心よりお待ち申し上げております。</td>\n",
       "      <td>鶴の舞橋と岩木山　絶景の宿　つがる富士見荘</td>\n",
       "      <td>aomori</td>\n",
       "      <td>4</td>\n",
       "      <td>4</td>\n",
       "      <td>5</td>\n",
       "      <td>4</td>\n",
       "      <td>4</td>\n",
       "      <td>4</td>\n",
       "      <td>4</td>\n",
       "    </tr>\n",
       "    <tr>\n",
       "      <th>2</th>\n",
       "      <td>voteans_21170325</td>\n",
       "      <td>2023-12-26 15:04:31</td>\n",
       "      <td>先日はお世話になりました。夕食を部屋食への変更、ありがとうございました。お食事はとても味付けが良くて、量も適量で、本当にゆっくりと食事が出来て良かったです。大浴場のお湯も、しっとりとしてかけ流しのお湯は気持ち良かったです。なかなか遠いのでまたチャンスがあれば伺いたいと思います。鶴の舞橋が目の前で、圧巻でした。雪が舞い散る鶴の舞橋も幻想的でとても良かったです。また足を運びたいと思います。ありがとうございました。</td>\n",
       "      <td>NaN</td>\n",
       "      <td>NaN</td>\n",
       "      <td>鶴の舞橋と岩木山　絶景の宿　つがる富士見荘</td>\n",
       "      <td>aomori</td>\n",
       "      <td>4</td>\n",
       "      <td>5</td>\n",
       "      <td>5</td>\n",
       "      <td>5</td>\n",
       "      <td>4</td>\n",
       "      <td>5</td>\n",
       "      <td>5</td>\n",
       "    </tr>\n",
       "    <tr>\n",
       "      <th>3</th>\n",
       "      <td>voteans_21061209</td>\n",
       "      <td>2023-11-21 16:12:52</td>\n",
       "      <td>大変満足でした。お掃除も行き届いていましたしお料理も美味しかったです。お風呂のお湯も豊富で気持ちよかったです。とにかく鶴の舞橋が目の前で素晴らしかったです。</td>\n",
       "      <td>NaN</td>\n",
       "      <td>NaN</td>\n",
       "      <td>鶴の舞橋と岩木山　絶景の宿　つがる富士見荘</td>\n",
       "      <td>aomori</td>\n",
       "      <td>5</td>\n",
       "      <td>4</td>\n",
       "      <td>5</td>\n",
       "      <td>4</td>\n",
       "      <td>3</td>\n",
       "      <td>4</td>\n",
       "      <td>4</td>\n",
       "    </tr>\n",
       "    <tr>\n",
       "      <th>4</th>\n",
       "      <td>voteans_21031432</td>\n",
       "      <td>2023-11-12 19:16:54</td>\n",
       "      <td>【良かった点】・部屋から見える景色が素晴らしく大満足。・フロントの対応が丁寧。【気になった点】・全室禁煙を知らなかった（当方の確認不足もあるが）予約時に禁煙や喫煙の記載がなかったので気にしてなかったが、部屋に灰皿がないのでフロントに電話で聞いたところ、全室禁煙とのこと。施設外まで出る必要があり、イマイチのんびり出来なかった。・部屋の髪の毛白いソファーに長い髪の毛が2本。ソファーが白なので目立ちました。・食事の質とサービス食事の質は普通であり、量もちょうどよかったが、質は宿泊料金に見合ってないように感じた。食事会場では係の方全員が厨房側に入り、会場に誰もいない時間が多々あった。飲み物を追加したいが、係の人が来るまで5分程度待った（大声で呼ぶことも考えたが、周囲のお客様に迷惑と思った）。朝食は席に着いても説明がなく戸惑った。・感染対策浴場と脱衣所でマスクなしでの会話が目立つ（地元の日帰...</td>\n",
       "      <td>NaN</td>\n",
       "      <td>NaN</td>\n",
       "      <td>鶴の舞橋と岩木山　絶景の宿　つがる富士見荘</td>\n",
       "      <td>aomori</td>\n",
       "      <td>2</td>\n",
       "      <td>2</td>\n",
       "      <td>5</td>\n",
       "      <td>2</td>\n",
       "      <td>3</td>\n",
       "      <td>2</td>\n",
       "      <td>2</td>\n",
       "    </tr>\n",
       "  </tbody>\n",
       "</table>\n",
       "</div>"
      ],
      "text/plain": [
       "          review_id          review_time  \\\n",
       "0  voteans_21301527  2024-02-18 01:26:29   \n",
       "1  voteans_21251321  2024-01-29 12:03:50   \n",
       "2  voteans_21170325  2023-12-26 15:04:31   \n",
       "3  voteans_21061209  2023-11-21 16:12:52   \n",
       "4  voteans_21031432  2023-11-12 19:16:54   \n",
       "\n",
       "                                                                                                                                                                                                                                                                                                                                                                                                       review_text  \\\n",
       "0                                                                                                                                                                                                                                                                                                                                            家族でのんびり過ごせて良かったです。お料理が美味しかったし、景色も美しかったです。温泉は思ったよりも小さかったですが、泉質は結構よかった。   \n",
       "1                                                                                                                                                                                                                                                                                                   ロビーからの鶴の舞橋の景観が素晴らしく、雪景色もあって楽しめました。食事も満腹となるほどの量・品数があり、いずれも美味でした。近くに鶴の飼育もなされており、鶴の鳴き合いの声を聴きながらの散策も特別な雰囲気を感じました。、   \n",
       "2                                                                                                                                                                                                   先日はお世話になりました。夕食を部屋食への変更、ありがとうございました。お食事はとても味付けが良くて、量も適量で、本当にゆっくりと食事が出来て良かったです。大浴場のお湯も、しっとりとしてかけ流しのお湯は気持ち良かったです。なかなか遠いのでまたチャンスがあれば伺いたいと思います。鶴の舞橋が目の前で、圧巻でした。雪が舞い散る鶴の舞橋も幻想的でとても良かったです。また足を運びたいと思います。ありがとうございました。   \n",
       "3                                                                                                                                                                                                                                                                                                                                   大変満足でした。お掃除も行き届いていましたしお料理も美味しかったです。お風呂のお湯も豊富で気持ちよかったです。とにかく鶴の舞橋が目の前で素晴らしかったです。   \n",
       "4  【良かった点】・部屋から見える景色が素晴らしく大満足。・フロントの対応が丁寧。【気になった点】・全室禁煙を知らなかった（当方の確認不足もあるが）予約時に禁煙や喫煙の記載がなかったので気にしてなかったが、部屋に灰皿がないのでフロントに電話で聞いたところ、全室禁煙とのこと。施設外まで出る必要があり、イマイチのんびり出来なかった。・部屋の髪の毛白いソファーに長い髪の毛が2本。ソファーが白なので目立ちました。・食事の質とサービス食事の質は普通であり、量もちょうどよかったが、質は宿泊料金に見合ってないように感じた。食事会場では係の方全員が厨房側に入り、会場に誰もいない時間が多々あった。飲み物を追加したいが、係の人が来るまで5分程度待った（大声で呼ぶことも考えたが、周囲のお客様に迷惑と思った）。朝食は席に着いても説明がなく戸惑った。・感染対策浴場と脱衣所でマスクなしでの会話が目立つ（地元の日帰...   \n",
       "\n",
       "      hotel_reply_time  \\\n",
       "0                  NaN   \n",
       "1  2024-02-15 18:11:20   \n",
       "2                  NaN   \n",
       "3                  NaN   \n",
       "4                  NaN   \n",
       "\n",
       "                                                                                                                                                          hotel_reply_text  \\\n",
       "0                                                                                                                                                                      NaN   \n",
       "1  この度は当館にご宿泊いただき誠にありがとうございます。ロビーから見える鶴の舞橋と雪化粧した岩木山の姿は、私共も見ていて飽きないほどです。また、お食事の面でもお客様にご満足いただけたようで大変嬉しく思います。丹頂鶴自然公園は1年を通して鶴とのふれあいを楽しめますので、ご機会がございましたらまたのお越しを心よりお待ち申し上げております。   \n",
       "2                                                                                                                                                                      NaN   \n",
       "3                                                                                                                                                                      NaN   \n",
       "4                                                                                                                                                                      NaN   \n",
       "\n",
       "              hotel_name prefecture  overall_score  service_score  \\\n",
       "0  鶴の舞橋と岩木山　絶景の宿　つがる富士見荘     aomori              4              4   \n",
       "1  鶴の舞橋と岩木山　絶景の宿　つがる富士見荘     aomori              4              4   \n",
       "2  鶴の舞橋と岩木山　絶景の宿　つがる富士見荘     aomori              4              5   \n",
       "3  鶴の舞橋と岩木山　絶景の宿　つがる富士見荘     aomori              5              4   \n",
       "4  鶴の舞橋と岩木山　絶景の宿　つがる富士見荘     aomori              2              2   \n",
       "\n",
       "   location_score  room_score amenities_score bathroom_score food_score  \n",
       "0               4           4               4              4          5  \n",
       "1               5           4               4              4          4  \n",
       "2               5           5               4              5          5  \n",
       "3               5           4               3              4          4  \n",
       "4               5           2               3              2          2  "
      ]
     },
     "execution_count": 6,
     "metadata": {},
     "output_type": "execute_result"
    }
   ],
   "source": [
    "tohoku_reviews_df.head()"
   ]
  },
  {
   "cell_type": "code",
   "execution_count": 7,
   "metadata": {},
   "outputs": [
    {
     "data": {
      "text/plain": [
       "review_id              0\n",
       "review_time            0\n",
       "review_text            0\n",
       "hotel_reply_time    1070\n",
       "hotel_reply_text    1070\n",
       "hotel_name             0\n",
       "prefecture             0\n",
       "overall_score          0\n",
       "service_score          0\n",
       "location_score         0\n",
       "room_score             0\n",
       "amenities_score        0\n",
       "bathroom_score         0\n",
       "food_score             0\n",
       "dtype: int64"
      ]
     },
     "execution_count": 7,
     "metadata": {},
     "output_type": "execute_result"
    }
   ],
   "source": [
    "tohoku_reviews_df.isna().sum()"
   ]
  },
  {
   "cell_type": "markdown",
   "metadata": {},
   "source": [
    "## Data Cleaning\n",
    "\n",
    "Even though most of our reviews are in Japanese, there are still some English reviews. \n",
    "\n",
    "We can look at a few by filtering based on whether the review contains two strings of at least 4 latin alphabet characters separated by spaces."
   ]
  },
  {
   "cell_type": "code",
   "execution_count": 8,
   "metadata": {},
   "outputs": [
    {
     "name": "stderr",
     "output_type": "stream",
     "text": [
      "C:\\Users\\weich\\AppData\\Local\\Temp\\ipykernel_19236\\3445674618.py:1: UserWarning: This pattern is interpreted as a regular expression, and has match groups. To actually get the groups, use str.extract.\n",
      "  possibly_english_reviews_df = tohoku_reviews_df[tohoku_reviews_df['review_text'].str.contains(\n"
     ]
    }
   ],
   "source": [
    "possibly_english_reviews_df = tohoku_reviews_df[tohoku_reviews_df['review_text'].str.contains(\n",
    "    r'[a-z]{,3} [a-z]{4,} [a-z]{4,}([a-z]{,3})? | ([a-z]{,3} )?[a-z]{4,} [a-z]{4,}[a-z]{,3}'\n",
    "    )].copy()"
   ]
  },
  {
   "cell_type": "code",
   "execution_count": 9,
   "metadata": {},
   "outputs": [
    {
     "data": {
      "text/html": [
       "<div>\n",
       "<style scoped>\n",
       "    .dataframe tbody tr th:only-of-type {\n",
       "        vertical-align: middle;\n",
       "    }\n",
       "\n",
       "    .dataframe tbody tr th {\n",
       "        vertical-align: top;\n",
       "    }\n",
       "\n",
       "    .dataframe thead th {\n",
       "        text-align: right;\n",
       "    }\n",
       "</style>\n",
       "<table border=\"1\" class=\"dataframe\">\n",
       "  <thead>\n",
       "    <tr style=\"text-align: right;\">\n",
       "      <th></th>\n",
       "      <th>review_id</th>\n",
       "      <th>review_time</th>\n",
       "      <th>review_text</th>\n",
       "    </tr>\n",
       "  </thead>\n",
       "  <tbody>\n",
       "    <tr>\n",
       "      <th>754</th>\n",
       "      <td>voteans_21289816</td>\n",
       "      <td>2024-02-13 16:00:33</td>\n",
       "      <td>spacious room with separate bathroom and washlet toilet. we tried one day of breakfast which is great for \\1100@.</td>\n",
       "    </tr>\n",
       "    <tr>\n",
       "      <th>769</th>\n",
       "      <td>voteans_20961951</td>\n",
       "      <td>2023-10-22 21:12:48</td>\n",
       "      <td>I found myself enjoying the Tatami Room a lot. The budget is reasonable, and the staff were quite friendly. They had a Welcome Drink (Apple Juice) when my family and I checked-in at the hotel. You can serve yourself this beverage once. The apple juice was delicious and sweet. Made a good first-impression.和室のお部屋でしたが、入った時に畳の匂いが良かったです。アメニティもあり、お風呂もゆっくりつかれて、よく眠れました。フロントの方も正にスマイルで対応していただきました。</td>\n",
       "    </tr>\n",
       "    <tr>\n",
       "      <th>3384</th>\n",
       "      <td>voteans_21242782</td>\n",
       "      <td>2024-01-25 18:20:37</td>\n",
       "      <td>A bit old hotel decoration, rooms are near the railway and quiet noisy. We are not sleep well.</td>\n",
       "    </tr>\n",
       "    <tr>\n",
       "      <th>3895</th>\n",
       "      <td>voteans_21242788</td>\n",
       "      <td>2024-01-25 18:22:51</td>\n",
       "      <td>Excellent hotel support guest needs, we will return next turn.</td>\n",
       "    </tr>\n",
       "    <tr>\n",
       "      <th>4855</th>\n",
       "      <td>voteans_21242784</td>\n",
       "      <td>2024-01-25 18:21:47</td>\n",
       "      <td>Very nice stay experience with good service, nice room and dinning quality is excellent.</td>\n",
       "    </tr>\n",
       "    <tr>\n",
       "      <th>4878</th>\n",
       "      <td>voteans_21015482</td>\n",
       "      <td>2023-11-07 15:47:16</td>\n",
       "      <td>The hotel room is aged and not very clean.  The buffet dinner and breakfast were not good in taste and a bit mess.  The room charge was not worth for the value</td>\n",
       "    </tr>\n",
       "    <tr>\n",
       "      <th>5982</th>\n",
       "      <td>voteans_21214669</td>\n",
       "      <td>2024-01-12 17:19:33</td>\n",
       "      <td>Location was very good and convenient. Room was clean and cozy, breakfast was very delicious. But the outdoor hot spring(in hotel) closed when we visited, felt unsatisfied. Shuttle bus refused to pick us up to the gondola terminal and we didn't know how to book the bus. Service could be improved.</td>\n",
       "    </tr>\n",
       "    <tr>\n",
       "      <th>6861</th>\n",
       "      <td>voteans_21268725</td>\n",
       "      <td>2024-02-05 16:48:41</td>\n",
       "      <td>Amazing room very accommating staff the meals were incredible very knowledgeable and friendly service</td>\n",
       "    </tr>\n",
       "    <tr>\n",
       "      <th>7305</th>\n",
       "      <td>voteans_21214683</td>\n",
       "      <td>2024-01-12 17:24:39</td>\n",
       "      <td>Breakfast was very delicious. Free parking was very convenient for the self driving visitors. Location is good enough.</td>\n",
       "    </tr>\n",
       "    <tr>\n",
       "      <th>7306</th>\n",
       "      <td>voteans_21214678</td>\n",
       "      <td>2024-01-12 17:22:16</td>\n",
       "      <td>Very good location and free parking were nice to visitors. Room was clean and comfortable even bigger than I expected. Breakfast was tasty and healthy.</td>\n",
       "    </tr>\n",
       "  </tbody>\n",
       "</table>\n",
       "</div>"
      ],
      "text/plain": [
       "             review_id          review_time  \\\n",
       "754   voteans_21289816  2024-02-13 16:00:33   \n",
       "769   voteans_20961951  2023-10-22 21:12:48   \n",
       "3384  voteans_21242782  2024-01-25 18:20:37   \n",
       "3895  voteans_21242788  2024-01-25 18:22:51   \n",
       "4855  voteans_21242784  2024-01-25 18:21:47   \n",
       "4878  voteans_21015482  2023-11-07 15:47:16   \n",
       "5982  voteans_21214669  2024-01-12 17:19:33   \n",
       "6861  voteans_21268725  2024-02-05 16:48:41   \n",
       "7305  voteans_21214683  2024-01-12 17:24:39   \n",
       "7306  voteans_21214678  2024-01-12 17:22:16   \n",
       "\n",
       "                                                                                                                                                                                                                                                                                                                                                                                                 review_text  \n",
       "754                                                                                                                                                                                                                                                                                        spacious room with separate bathroom and washlet toilet. we tried one day of breakfast which is great for \\1100@.  \n",
       "769   I found myself enjoying the Tatami Room a lot. The budget is reasonable, and the staff were quite friendly. They had a Welcome Drink (Apple Juice) when my family and I checked-in at the hotel. You can serve yourself this beverage once. The apple juice was delicious and sweet. Made a good first-impression.和室のお部屋でしたが、入った時に畳の匂いが良かったです。アメニティもあり、お風呂もゆっくりつかれて、よく眠れました。フロントの方も正にスマイルで対応していただきました。  \n",
       "3384                                                                                                                                                                                                                                                                                                          A bit old hotel decoration, rooms are near the railway and quiet noisy. We are not sleep well.  \n",
       "3895                                                                                                                                                                                                                                                                                                                                          Excellent hotel support guest needs, we will return next turn.  \n",
       "4855                                                                                                                                                                                                                                                                                                                Very nice stay experience with good service, nice room and dinning quality is excellent.  \n",
       "4878                                                                                                                                                                                                                                         The hotel room is aged and not very clean.  The buffet dinner and breakfast were not good in taste and a bit mess.  The room charge was not worth for the value  \n",
       "5982                                                                                               Location was very good and convenient. Room was clean and cozy, breakfast was very delicious. But the outdoor hot spring(in hotel) closed when we visited, felt unsatisfied. Shuttle bus refused to pick us up to the gondola terminal and we didn't know how to book the bus. Service could be improved.  \n",
       "6861                                                                                                                                                                                                                                                                                                   Amazing room very accommating staff the meals were incredible very knowledgeable and friendly service  \n",
       "7305                                                                                                                                                                                                                                                                                  Breakfast was very delicious. Free parking was very convenient for the self driving visitors. Location is good enough.  \n",
       "7306                                                                                                                                                                                                                                                 Very good location and free parking were nice to visitors. Room was clean and comfortable even bigger than I expected. Breakfast was tasty and healthy.  "
      ]
     },
     "execution_count": 9,
     "metadata": {},
     "output_type": "execute_result"
    }
   ],
   "source": [
    "possibly_english_reviews_df.iloc[:,:3]"
   ]
  },
  {
   "cell_type": "code",
   "execution_count": 10,
   "metadata": {},
   "outputs": [
    {
     "data": {
      "text/plain": [
       "(10, 14)"
      ]
     },
     "execution_count": 10,
     "metadata": {},
     "output_type": "execute_result"
    }
   ],
   "source": [
    "possibly_english_reviews_df.shape"
   ]
  },
  {
   "cell_type": "markdown",
   "metadata": {},
   "source": [
    "There's only 10 out of 7330 reviews that have such English text, so we can safely drop them."
   ]
  },
  {
   "cell_type": "markdown",
   "metadata": {},
   "source": [
    "### Analysis of the remaining texts"
   ]
  },
  {
   "cell_type": "code",
   "execution_count": 11,
   "metadata": {},
   "outputs": [
    {
     "name": "stderr",
     "output_type": "stream",
     "text": [
      "C:\\Users\\weich\\AppData\\Local\\Temp\\ipykernel_19236\\3010851474.py:1: UserWarning: This pattern is interpreted as a regular expression, and has match groups. To actually get the groups, use str.extract.\n",
      "  japanese_reviews_df = tohoku_reviews_df[~tohoku_reviews_df['review_text'].str.contains(\n"
     ]
    }
   ],
   "source": [
    "japanese_reviews_df = tohoku_reviews_df[~tohoku_reviews_df['review_text'].str.contains(\n",
    "    r'[a-z]{,3} [a-z]{4,} [a-z]{4,}([a-z]{,3})? | ([a-z]{,3} )?[a-z]{4,} [a-z]{4,}[a-z]{,3}'\n",
    "    )].copy()"
   ]
  },
  {
   "cell_type": "code",
   "execution_count": 12,
   "metadata": {},
   "outputs": [
    {
     "data": {
      "text/html": [
       "<div>\n",
       "<style scoped>\n",
       "    .dataframe tbody tr th:only-of-type {\n",
       "        vertical-align: middle;\n",
       "    }\n",
       "\n",
       "    .dataframe tbody tr th {\n",
       "        vertical-align: top;\n",
       "    }\n",
       "\n",
       "    .dataframe thead th {\n",
       "        text-align: right;\n",
       "    }\n",
       "</style>\n",
       "<table border=\"1\" class=\"dataframe\">\n",
       "  <thead>\n",
       "    <tr style=\"text-align: right;\">\n",
       "      <th></th>\n",
       "      <th>review_id</th>\n",
       "      <th>review_time</th>\n",
       "      <th>review_text</th>\n",
       "    </tr>\n",
       "  </thead>\n",
       "  <tbody>\n",
       "    <tr>\n",
       "      <th>0</th>\n",
       "      <td>voteans_21301527</td>\n",
       "      <td>2024-02-18 01:26:29</td>\n",
       "      <td>家族でのんびり過ごせて良かったです。お料理が美味しかったし、景色も美しかったです。温泉は思ったよりも小さかったですが、泉質は結構よかった。</td>\n",
       "    </tr>\n",
       "    <tr>\n",
       "      <th>1</th>\n",
       "      <td>voteans_21251321</td>\n",
       "      <td>2024-01-29 12:03:50</td>\n",
       "      <td>ロビーからの鶴の舞橋の景観が素晴らしく、雪景色もあって楽しめました。食事も満腹となるほどの量・品数があり、いずれも美味でした。近くに鶴の飼育もなされており、鶴の鳴き合いの声を聴きながらの散策も特別な雰囲気を感じました。、</td>\n",
       "    </tr>\n",
       "    <tr>\n",
       "      <th>2</th>\n",
       "      <td>voteans_21170325</td>\n",
       "      <td>2023-12-26 15:04:31</td>\n",
       "      <td>先日はお世話になりました。夕食を部屋食への変更、ありがとうございました。お食事はとても味付けが良くて、量も適量で、本当にゆっくりと食事が出来て良かったです。大浴場のお湯も、しっとりとしてかけ流しのお湯は気持ち良かったです。なかなか遠いのでまたチャンスがあれば伺いたいと思います。鶴の舞橋が目の前で、圧巻でした。雪が舞い散る鶴の舞橋も幻想的でとても良かったです。また足を運びたいと思います。ありがとうございました。</td>\n",
       "    </tr>\n",
       "    <tr>\n",
       "      <th>3</th>\n",
       "      <td>voteans_21061209</td>\n",
       "      <td>2023-11-21 16:12:52</td>\n",
       "      <td>大変満足でした。お掃除も行き届いていましたしお料理も美味しかったです。お風呂のお湯も豊富で気持ちよかったです。とにかく鶴の舞橋が目の前で素晴らしかったです。</td>\n",
       "    </tr>\n",
       "    <tr>\n",
       "      <th>4</th>\n",
       "      <td>voteans_21031432</td>\n",
       "      <td>2023-11-12 19:16:54</td>\n",
       "      <td>【良かった点】・部屋から見える景色が素晴らしく大満足。・フロントの対応が丁寧。【気になった点】・全室禁煙を知らなかった（当方の確認不足もあるが）予約時に禁煙や喫煙の記載がなかったので気にしてなかったが、部屋に灰皿がないのでフロントに電話で聞いたところ、全室禁煙とのこと。施設外まで出る必要があり、イマイチのんびり出来なかった。・部屋の髪の毛白いソファーに長い髪の毛が2本。ソファーが白なので目立ちました。・食事の質とサービス食事の質は普通であり、量もちょうどよかったが、質は宿泊料金に見合ってないように感じた。食事会場では係の方全員が厨房側に入り、会場に誰もいない時間が多々あった。飲み物を追加したいが、係の人が来るまで5分程度待った（大声で呼ぶことも考えたが、周囲のお客様に迷惑と思った）。朝食は席に着いても説明がなく戸惑った。・感染対策浴場と脱衣所でマスクなしでの会話が目立つ（地元の日帰...</td>\n",
       "    </tr>\n",
       "  </tbody>\n",
       "</table>\n",
       "</div>"
      ],
      "text/plain": [
       "          review_id          review_time  \\\n",
       "0  voteans_21301527  2024-02-18 01:26:29   \n",
       "1  voteans_21251321  2024-01-29 12:03:50   \n",
       "2  voteans_21170325  2023-12-26 15:04:31   \n",
       "3  voteans_21061209  2023-11-21 16:12:52   \n",
       "4  voteans_21031432  2023-11-12 19:16:54   \n",
       "\n",
       "                                                                                                                                                                                                                                                                                                                                                                                                       review_text  \n",
       "0                                                                                                                                                                                                                                                                                                                                            家族でのんびり過ごせて良かったです。お料理が美味しかったし、景色も美しかったです。温泉は思ったよりも小さかったですが、泉質は結構よかった。  \n",
       "1                                                                                                                                                                                                                                                                                                   ロビーからの鶴の舞橋の景観が素晴らしく、雪景色もあって楽しめました。食事も満腹となるほどの量・品数があり、いずれも美味でした。近くに鶴の飼育もなされており、鶴の鳴き合いの声を聴きながらの散策も特別な雰囲気を感じました。、  \n",
       "2                                                                                                                                                                                                   先日はお世話になりました。夕食を部屋食への変更、ありがとうございました。お食事はとても味付けが良くて、量も適量で、本当にゆっくりと食事が出来て良かったです。大浴場のお湯も、しっとりとしてかけ流しのお湯は気持ち良かったです。なかなか遠いのでまたチャンスがあれば伺いたいと思います。鶴の舞橋が目の前で、圧巻でした。雪が舞い散る鶴の舞橋も幻想的でとても良かったです。また足を運びたいと思います。ありがとうございました。  \n",
       "3                                                                                                                                                                                                                                                                                                                                   大変満足でした。お掃除も行き届いていましたしお料理も美味しかったです。お風呂のお湯も豊富で気持ちよかったです。とにかく鶴の舞橋が目の前で素晴らしかったです。  \n",
       "4  【良かった点】・部屋から見える景色が素晴らしく大満足。・フロントの対応が丁寧。【気になった点】・全室禁煙を知らなかった（当方の確認不足もあるが）予約時に禁煙や喫煙の記載がなかったので気にしてなかったが、部屋に灰皿がないのでフロントに電話で聞いたところ、全室禁煙とのこと。施設外まで出る必要があり、イマイチのんびり出来なかった。・部屋の髪の毛白いソファーに長い髪の毛が2本。ソファーが白なので目立ちました。・食事の質とサービス食事の質は普通であり、量もちょうどよかったが、質は宿泊料金に見合ってないように感じた。食事会場では係の方全員が厨房側に入り、会場に誰もいない時間が多々あった。飲み物を追加したいが、係の人が来るまで5分程度待った（大声で呼ぶことも考えたが、周囲のお客様に迷惑と思った）。朝食は席に着いても説明がなく戸惑った。・感染対策浴場と脱衣所でマスクなしでの会話が目立つ（地元の日帰...  "
      ]
     },
     "execution_count": 12,
     "metadata": {},
     "output_type": "execute_result"
    }
   ],
   "source": [
    "japanese_reviews_df.iloc[:,:3].head()"
   ]
  },
  {
   "cell_type": "markdown",
   "metadata": {},
   "source": [
    "We first check that none of the reviews are blank."
   ]
  },
  {
   "cell_type": "code",
   "execution_count": 13,
   "metadata": {},
   "outputs": [
    {
     "data": {
      "text/html": [
       "<div>\n",
       "<style scoped>\n",
       "    .dataframe tbody tr th:only-of-type {\n",
       "        vertical-align: middle;\n",
       "    }\n",
       "\n",
       "    .dataframe tbody tr th {\n",
       "        vertical-align: top;\n",
       "    }\n",
       "\n",
       "    .dataframe thead th {\n",
       "        text-align: right;\n",
       "    }\n",
       "</style>\n",
       "<table border=\"1\" class=\"dataframe\">\n",
       "  <thead>\n",
       "    <tr style=\"text-align: right;\">\n",
       "      <th></th>\n",
       "      <th>review_id</th>\n",
       "      <th>review_time</th>\n",
       "      <th>review_text</th>\n",
       "      <th>hotel_reply_time</th>\n",
       "      <th>hotel_reply_text</th>\n",
       "      <th>hotel_name</th>\n",
       "      <th>prefecture</th>\n",
       "      <th>overall_score</th>\n",
       "      <th>service_score</th>\n",
       "      <th>location_score</th>\n",
       "      <th>room_score</th>\n",
       "      <th>amenities_score</th>\n",
       "      <th>bathroom_score</th>\n",
       "      <th>food_score</th>\n",
       "    </tr>\n",
       "  </thead>\n",
       "  <tbody>\n",
       "  </tbody>\n",
       "</table>\n",
       "</div>"
      ],
      "text/plain": [
       "Empty DataFrame\n",
       "Columns: [review_id, review_time, review_text, hotel_reply_time, hotel_reply_text, hotel_name, prefecture, overall_score, service_score, location_score, room_score, amenities_score, bathroom_score, food_score]\n",
       "Index: []"
      ]
     },
     "execution_count": 13,
     "metadata": {},
     "output_type": "execute_result"
    }
   ],
   "source": [
    "japanese_reviews_df[japanese_reviews_df['review_text']=='']"
   ]
  },
  {
   "cell_type": "markdown",
   "metadata": {},
   "source": [
    "In addition, some of the scores given in the reviews may not be complete. Let us take a look."
   ]
  },
  {
   "cell_type": "code",
   "execution_count": 14,
   "metadata": {},
   "outputs": [
    {
     "name": "stdout",
     "output_type": "stream",
     "text": [
      "<class 'pandas.core.frame.DataFrame'>\n",
      "Index: 7330 entries, 0 to 7339\n",
      "Data columns (total 14 columns):\n",
      " #   Column            Non-Null Count  Dtype \n",
      "---  ------            --------------  ----- \n",
      " 0   review_id         7330 non-null   object\n",
      " 1   review_time       7330 non-null   object\n",
      " 2   review_text       7330 non-null   object\n",
      " 3   hotel_reply_time  6260 non-null   object\n",
      " 4   hotel_reply_text  6260 non-null   object\n",
      " 5   hotel_name        7330 non-null   object\n",
      " 6   prefecture        7330 non-null   object\n",
      " 7   overall_score     7330 non-null   int64 \n",
      " 8   service_score     7330 non-null   int64 \n",
      " 9   location_score    7330 non-null   int64 \n",
      " 10  room_score        7330 non-null   int64 \n",
      " 11  amenities_score   7330 non-null   object\n",
      " 12  bathroom_score    7330 non-null   object\n",
      " 13  food_score        7330 non-null   object\n",
      "dtypes: int64(4), object(10)\n",
      "memory usage: 859.0+ KB\n"
     ]
    }
   ],
   "source": [
    "japanese_reviews_df.info()"
   ]
  },
  {
   "cell_type": "markdown",
   "metadata": {},
   "source": [
    "The reason why some scores are not in integer format is because when a guest does not have a score for a specific aspect, the review shows it as `-`.\n",
    "\n",
    "We shall convert them to null values and check how many there are."
   ]
  },
  {
   "cell_type": "code",
   "execution_count": 15,
   "metadata": {},
   "outputs": [],
   "source": [
    "# applying the filter to our dataset\n",
    "\n",
    "japanese_reviews_df.replace('-', np.nan, inplace=True)"
   ]
  },
  {
   "cell_type": "code",
   "execution_count": 16,
   "metadata": {},
   "outputs": [
    {
     "data": {
      "text/plain": [
       "review_id              0\n",
       "review_time            0\n",
       "review_text            0\n",
       "hotel_reply_time    1070\n",
       "hotel_reply_text    1070\n",
       "hotel_name             0\n",
       "prefecture             0\n",
       "overall_score          0\n",
       "service_score          0\n",
       "location_score         0\n",
       "room_score             0\n",
       "amenities_score       25\n",
       "bathroom_score       321\n",
       "food_score          1616\n",
       "dtype: int64"
      ]
     },
     "execution_count": 16,
     "metadata": {},
     "output_type": "execute_result"
    }
   ],
   "source": [
    "japanese_reviews_df.isna().sum()"
   ]
  },
  {
   "cell_type": "markdown",
   "metadata": {},
   "source": [
    "We can leave the null scores be for now, and only remove them later when needed. \n",
    "\n",
    "We also see that around 1000 of the 7330 reviews do not have a reply. This is fine.\n",
    "\n",
    "Meanwhile, let us take a look at the range of scores, just so we get a feel for what we are dealing with."
   ]
  },
  {
   "cell_type": "code",
   "execution_count": 17,
   "metadata": {},
   "outputs": [],
   "source": [
    "for col in [colname for colname in japanese_reviews_df.columns.tolist() if 'score' in colname]:\n",
    "    japanese_reviews_df[col] = [int(score) if score == score else np.nan for score in japanese_reviews_df[col].values]"
   ]
  },
  {
   "cell_type": "code",
   "execution_count": 18,
   "metadata": {},
   "outputs": [
    {
     "data": {
      "text/plain": [
       "{'overall_score': array([4, 5, 2, 3, 1], dtype=int64),\n",
       " 'service_score': array([4, 5, 2, 3, 1], dtype=int64),\n",
       " 'location_score': array([4, 5, 3, 2, 1], dtype=int64),\n",
       " 'room_score': array([4, 5, 2, 3, 1], dtype=int64),\n",
       " 'amenities_score': array([ 4.,  3.,  2.,  5.,  1., nan]),\n",
       " 'bathroom_score': array([ 4.,  5.,  2.,  3., nan,  1.]),\n",
       " 'food_score': array([ 5.,  4.,  2.,  3., nan,  1.])}"
      ]
     },
     "execution_count": 18,
     "metadata": {},
     "output_type": "execute_result"
    }
   ],
   "source": [
    "{col: japanese_reviews_df[col].unique() for col in [colname for colname in japanese_reviews_df.columns if 'score' in colname]}"
   ]
  },
  {
   "cell_type": "markdown",
   "metadata": {},
   "source": [
    "As we can see, we have the full range of scores for each category, so we can attempt to use these to check the sentiments."
   ]
  },
  {
   "cell_type": "markdown",
   "metadata": {},
   "source": [
    "## Tokenization and Aspect Detection\n",
    "\n",
    "As the goal of this project is Aspect Based Sentiment Analysis, we would like to first identify what the aspects of the reviews are. If we cannot even determine that, we would just be performing Sentiment Analysis.\n"
   ]
  },
  {
   "cell_type": "markdown",
   "metadata": {},
   "source": [
    "### Tokenization\n",
    "\n",
    "In order to tokenize sentences in the Japanese language, we can use the `natto-py` library (documentation [here](https://pypi.org/project/natto-py/)), self-described as \"A Tasty Python Binding with MeCab (FFI-based, no SWIG or compiler necessary)\".\n",
    "\n",
    "Note that `natto-py` also requires a [MeCab](https://en.wikipedia.org/wiki/MeCab) installation (essentially the dictionary to be used) to be present in order for the tokenizer to even work. This can be downloaded from https://github.com/ikegami-yukino/mecab/releases (download and run `mecab-64-0.996.2.exe`), and the encoding should be set to UTF-8. It should be noted that the [official documentation for MeCab](https://taku910.github.io/mecab/learn.html) is written pretty much entirely in Japanese, and so we shall explore it through its wrappers, which tend to have documentation in English.\n",
    "\n",
    "For more information, refer to the [official `natto-py` wiki](https://github.com/buruzaemon/natto-py/wiki) for documentation and examples. The author of `natto-py` describes the motivation behind creating it [here](https://github.com/buruzaemon/natto-py/wiki/Why-Even-Bother).\n",
    "\n",
    "Alternatively, `fugashi` (available [here](https://github.com/polm/fugashi), which is much easier in terms of a dictionary installation) could also be used. However, the advantage that `natto-py` provides over `fugashi` is not just a much more comprehensive documentation, but it also does not require explicit configuration of MeCab besides making sure it is on your system PATH.\n",
    "\n",
    "A comparison of the different tokenizers is provided in [this](https://arxiv.org/abs/2010.06858) paper (article version [here](https://www.dampfkraft.com/nlp/how-to-tokenize-japanese.html)), which introduces the `fugashi` library and also provides a general overview of Japanese tokenization. In fact, most Japanese language tokenizers available for Python are simply wrappers for MeCab.\n",
    "\n",
    "There is another tokenizer that we may want to explore here. [Nagisa](https://github.com/taishi-i/nagisa) is a Japanese language tokenizer that is based off a recurrent neural network. "
   ]
  },
  {
   "cell_type": "markdown",
   "metadata": {},
   "source": [
    "### Aspect Detection\n",
    "\n",
    "In this attempt to programatically determine aspects, let us look at the most common tokens that occur in our corpus of text. We shall use `scikit-learn`'s `CountVectorizer` here, with the only difference being that we pass a different tokenizer into `CountVectorizer`.\n",
    "\n",
    "First, we define the tokenizer that we shall pass into `CountVectorizer`."
   ]
  },
  {
   "cell_type": "code",
   "execution_count": 19,
   "metadata": {},
   "outputs": [],
   "source": [
    "# instantiating the MeCab() object\n",
    "nm = MeCab()\n",
    "\n",
    "def init_tokenizer_ja(text):\n",
    "    # this essentially returns a list of tokens that are not end-of-sentence (EOS)\n",
    "    return [token.surface for token in nm.parse(text, as_nodes=True) if token.is_nor()]"
   ]
  },
  {
   "cell_type": "markdown",
   "metadata": {},
   "source": [
    "Let us see this in action."
   ]
  },
  {
   "cell_type": "code",
   "execution_count": 20,
   "metadata": {},
   "outputs": [
    {
     "data": {
      "text/plain": [
       "['家族', 'で', 'のんびり', '過ごせ', 'て', '良かっ', 'た', 'です', '。']"
      ]
     },
     "execution_count": 20,
     "metadata": {},
     "output_type": "execute_result"
    }
   ],
   "source": [
    "init_tokenizer_ja('家族でのんびり過ごせて良かったです。')"
   ]
  },
  {
   "cell_type": "code",
   "execution_count": 21,
   "metadata": {},
   "outputs": [],
   "source": [
    "example_text = '先日はお世話になりました。夕食を部屋食への変更、ありがとうございました。お食事はとても味付けが良くて、量も適量で、本当にゆっくりと食事が出来て良かったです。大浴場のお湯も、しっとりとしてかけ流しのお湯は気持ち良かったです。なかなか遠いのでまたチャンスがあれば伺いたいと思います。鶴の舞橋が目の前で、圧巻でした。雪が舞い散る鶴の舞橋も幻想的でとても良かったです。また足を運びたいと思います。ありがとうございました。'\n"
   ]
  },
  {
   "cell_type": "code",
   "execution_count": 22,
   "metadata": {},
   "outputs": [],
   "source": [
    "example_tokens = [token for token in nm.parse(example_text, as_nodes=True)]"
   ]
  },
  {
   "cell_type": "code",
   "execution_count": 23,
   "metadata": {},
   "outputs": [
    {
     "data": {
      "text/plain": [
       "[<natto.node.MeCabNode node=<cdata 'mecab_node_t *' 0x000001E0CF50B1E8>, stat=0, surface=\"先日\", feature=\"名詞,副詞可能,*,*,*,*,先日,センジツ,センジツ\">,\n",
       " <natto.node.MeCabNode node=<cdata 'mecab_node_t *' 0x000001E0CF50B6C8>, stat=0, surface=\"は\", feature=\"助詞,係助詞,*,*,*,*,は,ハ,ワ\">,\n",
       " <natto.node.MeCabNode node=<cdata 'mecab_node_t *' 0x000001E0CF50BAD8>, stat=0, surface=\"お世話\", feature=\"名詞,サ変接続,*,*,*,*,お世話,オセワ,オセワ\">,\n",
       " <natto.node.MeCabNode node=<cdata 'mecab_node_t *' 0x000001E0CF50BDB0>, stat=0, surface=\"に\", feature=\"助詞,格助詞,一般,*,*,*,に,ニ,ニ\">,\n",
       " <natto.node.MeCabNode node=<cdata 'mecab_node_t *' 0x000001E0CF50C498>, stat=0, surface=\"なり\", feature=\"動詞,自立,*,*,五段・ラ行,連用形,なる,ナリ,ナリ\">,\n",
       " <natto.node.MeCabNode node=<cdata 'mecab_node_t *' 0x000001E0CF50C6A0>, stat=0, surface=\"まし\", feature=\"助動詞,*,*,*,特殊・マス,連用形,ます,マシ,マシ\">,\n",
       " <natto.node.MeCabNode node=<cdata 'mecab_node_t *' 0x000001E0CF50CBE8>, stat=0, surface=\"た\", feature=\"助動詞,*,*,*,特殊・タ,基本形,た,タ,タ\">,\n",
       " <natto.node.MeCabNode node=<cdata 'mecab_node_t *' 0x000001E0CF50CD20>, stat=0, surface=\"。\", feature=\"記号,句点,*,*,*,*,。,。,。\">,\n",
       " <natto.node.MeCabNode node=<cdata 'mecab_node_t *' 0x000001E0CF50CF90>, stat=0, surface=\"夕食\", feature=\"名詞,一般,*,*,*,*,夕食,ユウショク,ユーショク\">,\n",
       " <natto.node.MeCabNode node=<cdata 'mecab_node_t *' 0x000001E0CF50D130>, stat=0, surface=\"を\", feature=\"助詞,格助詞,一般,*,*,*,を,ヲ,ヲ\">,\n",
       " <natto.node.MeCabNode node=<cdata 'mecab_node_t *' 0x000001E0CF50D2D0>, stat=0, surface=\"部屋\", feature=\"名詞,一般,*,*,*,*,部屋,ヘヤ,ヘヤ\">,\n",
       " <natto.node.MeCabNode node=<cdata 'mecab_node_t *' 0x000001E0CF50D540>, stat=0, surface=\"食\", feature=\"名詞,接尾,一般,*,*,*,食,ショク,ショク\">,\n",
       " <natto.node.MeCabNode node=<cdata 'mecab_node_t *' 0x000001E0CF50D610>, stat=0, surface=\"へ\", feature=\"助詞,格助詞,一般,*,*,*,へ,ヘ,エ\">,\n",
       " <natto.node.MeCabNode node=<cdata 'mecab_node_t *' 0x000001E0CF50D880>, stat=0, surface=\"の\", feature=\"助詞,連体化,*,*,*,*,の,ノ,ノ\">,\n",
       " <natto.node.MeCabNode node=<cdata 'mecab_node_t *' 0x000001E0CF50DAF0>, stat=0, surface=\"変更\", feature=\"名詞,サ変接続,*,*,*,*,変更,ヘンコウ,ヘンコー\">,\n",
       " <natto.node.MeCabNode node=<cdata 'mecab_node_t *' 0x000001E0CF50DC28>, stat=0, surface=\"、\", feature=\"記号,読点,*,*,*,*,、,、,、\">,\n",
       " <natto.node.MeCabNode node=<cdata 'mecab_node_t *' 0x000001E0CF50E108>, stat=0, surface=\"ありがとう\", feature=\"感動詞,*,*,*,*,*,ありがとう,アリガトウ,アリガトー\">,\n",
       " <natto.node.MeCabNode node=<cdata 'mecab_node_t *' 0x000001E0CF50EAC8>, stat=0, surface=\"ござい\", feature=\"助動詞,*,*,*,五段・ラ行特殊,連用形,ござる,ゴザイ,ゴザイ\">,\n",
       " <natto.node.MeCabNode node=<cdata 'mecab_node_t *' 0x000001E0CF50F968>, stat=0, surface=\"まし\", feature=\"助動詞,*,*,*,特殊・マス,連用形,ます,マシ,マシ\">,\n",
       " <natto.node.MeCabNode node=<cdata 'mecab_node_t *' 0x000001E0CF50FEB0>, stat=0, surface=\"た\", feature=\"助動詞,*,*,*,特殊・タ,基本形,た,タ,タ\">,\n",
       " <natto.node.MeCabNode node=<cdata 'mecab_node_t *' 0x000001E0CF50FFE8>, stat=0, surface=\"。\", feature=\"記号,句点,*,*,*,*,。,。,。\">,\n",
       " <natto.node.MeCabNode node=<cdata 'mecab_node_t *' 0x000001E0CF510188>, stat=0, surface=\"お\", feature=\"接頭詞,名詞接続,*,*,*,*,お,オ,オ\">,\n",
       " <natto.node.MeCabNode node=<cdata 'mecab_node_t *' 0x000001E0CF5103F8>, stat=0, surface=\"食事\", feature=\"名詞,サ変接続,*,*,*,*,食事,ショクジ,ショクジ\">,\n",
       " <natto.node.MeCabNode node=<cdata 'mecab_node_t *' 0x000001E0CF510668>, stat=0, surface=\"は\", feature=\"助詞,係助詞,*,*,*,*,は,ハ,ワ\">,\n",
       " <natto.node.MeCabNode node=<cdata 'mecab_node_t *' 0x000001E0CF510B48>, stat=0, surface=\"とても\", feature=\"副詞,助詞類接続,*,*,*,*,とても,トテモ,トテモ\">,\n",
       " <natto.node.MeCabNode node=<cdata 'mecab_node_t *' 0x000001E0CF511090>, stat=0, surface=\"味付け\", feature=\"名詞,サ変接続,*,*,*,*,味付け,アジツケ,アジツケ\">,\n",
       " <natto.node.MeCabNode node=<cdata 'mecab_node_t *' 0x000001E0CF511980>, stat=0, surface=\"が\", feature=\"助詞,格助詞,一般,*,*,*,が,ガ,ガ\">,\n",
       " <natto.node.MeCabNode node=<cdata 'mecab_node_t *' 0x000001E0CF511E60>, stat=0, surface=\"良く\", feature=\"形容詞,自立,*,*,形容詞・アウオ段,連用テ接続,良い,ヨク,ヨク\">,\n",
       " <natto.node.MeCabNode node=<cdata 'mecab_node_t *' 0x000001E0CF5122D8>, stat=0, surface=\"て\", feature=\"助詞,接続助詞,*,*,*,*,て,テ,テ\">,\n",
       " <natto.node.MeCabNode node=<cdata 'mecab_node_t *' 0x000001E0CF5124E0>, stat=0, surface=\"、\", feature=\"記号,読点,*,*,*,*,、,、,、\">,\n",
       " <natto.node.MeCabNode node=<cdata 'mecab_node_t *' 0x000001E0CF5125B0>, stat=0, surface=\"量\", feature=\"名詞,一般,*,*,*,*,量,リョウ,リョー\">,\n",
       " <natto.node.MeCabNode node=<cdata 'mecab_node_t *' 0x000001E0CF5126E8>, stat=0, surface=\"も\", feature=\"助詞,係助詞,*,*,*,*,も,モ,モ\">,\n",
       " <natto.node.MeCabNode node=<cdata 'mecab_node_t *' 0x000001E0CF512820>, stat=0, surface=\"適量\", feature=\"名詞,一般,*,*,*,*,適量,テキリョウ,テキリョー\">,\n",
       " <natto.node.MeCabNode node=<cdata 'mecab_node_t *' 0x000001E0CF512A90>, stat=0, surface=\"で\", feature=\"助詞,格助詞,一般,*,*,*,で,デ,デ\">,\n",
       " <natto.node.MeCabNode node=<cdata 'mecab_node_t *' 0x000001E0CF512DD0>, stat=0, surface=\"、\", feature=\"記号,読点,*,*,*,*,、,、,、\">,\n",
       " <natto.node.MeCabNode node=<cdata 'mecab_node_t *' 0x000001E0CF513248>, stat=0, surface=\"本当に\", feature=\"副詞,一般,*,*,*,*,本当に,ホントウニ,ホントーニ\">,\n",
       " <natto.node.MeCabNode node=<cdata 'mecab_node_t *' 0x000001E0CF513860>, stat=0, surface=\"ゆっくり\", feature=\"副詞,助詞類接続,*,*,*,*,ゆっくり,ユックリ,ユックリ\">,\n",
       " <natto.node.MeCabNode node=<cdata 'mecab_node_t *' 0x000001E0CF513EE0>, stat=0, surface=\"と\", feature=\"助詞,副詞化,*,*,*,*,と,ト,ト\">,\n",
       " <natto.node.MeCabNode node=<cdata 'mecab_node_t *' 0x000001E0CF514150>, stat=0, surface=\"食事\", feature=\"名詞,サ変接続,*,*,*,*,食事,ショクジ,ショクジ\">,\n",
       " <natto.node.MeCabNode node=<cdata 'mecab_node_t *' 0x000001E0CF514428>, stat=0, surface=\"が\", feature=\"助詞,格助詞,一般,*,*,*,が,ガ,ガ\">,\n",
       " <natto.node.MeCabNode node=<cdata 'mecab_node_t *' 0x000001E0CF514A40>, stat=0, surface=\"出来\", feature=\"動詞,自立,*,*,一段,連用形,出来る,デキ,デキ\">,\n",
       " <natto.node.MeCabNode node=<cdata 'mecab_node_t *' 0x000001E0CF514F88>, stat=0, surface=\"て\", feature=\"助詞,接続助詞,*,*,*,*,て,テ,テ\">,\n",
       " <natto.node.MeCabNode node=<cdata 'mecab_node_t *' 0x000001E0CF515400>, stat=0, surface=\"良かっ\", feature=\"形容詞,非自立,*,*,形容詞・アウオ段,連用タ接続,良い,ヨカッ,ヨカッ\">,\n",
       " <natto.node.MeCabNode node=<cdata 'mecab_node_t *' 0x000001E0CF5158E0>, stat=0, surface=\"た\", feature=\"助動詞,*,*,*,特殊・タ,基本形,た,タ,タ\">,\n",
       " <natto.node.MeCabNode node=<cdata 'mecab_node_t *' 0x000001E0CF515E90>, stat=0, surface=\"です\", feature=\"助動詞,*,*,*,特殊・デス,基本形,です,デス,デス\">,\n",
       " <natto.node.MeCabNode node=<cdata 'mecab_node_t *' 0x000001E0CF5161D0>, stat=0, surface=\"。\", feature=\"記号,句点,*,*,*,*,。,。,。\">,\n",
       " <natto.node.MeCabNode node=<cdata 'mecab_node_t *' 0x000001E0CF516578>, stat=0, surface=\"大\", feature=\"接頭詞,名詞接続,*,*,*,*,大,ダイ,ダイ\">,\n",
       " <natto.node.MeCabNode node=<cdata 'mecab_node_t *' 0x000001E0CF516780>, stat=0, surface=\"浴場\", feature=\"名詞,一般,*,*,*,*,浴場,ヨクジョウ,ヨクジョー\">,\n",
       " <natto.node.MeCabNode node=<cdata 'mecab_node_t *' 0x000001E0CF516A58>, stat=0, surface=\"の\", feature=\"助詞,連体化,*,*,*,*,の,ノ,ノ\">,\n",
       " <natto.node.MeCabNode node=<cdata 'mecab_node_t *' 0x000001E0CF516D98>, stat=0, surface=\"お湯\", feature=\"名詞,一般,*,*,*,*,お湯,オユ,オユ\">,\n",
       " <natto.node.MeCabNode node=<cdata 'mecab_node_t *' 0x000001E0CF516ED0>, stat=0, surface=\"も\", feature=\"助詞,係助詞,*,*,*,*,も,モ,モ\">,\n",
       " <natto.node.MeCabNode node=<cdata 'mecab_node_t *' 0x000001E0CF517008>, stat=0, surface=\"、\", feature=\"記号,読点,*,*,*,*,、,、,、\">,\n",
       " <natto.node.MeCabNode node=<cdata 'mecab_node_t *' 0x000001E0CF517480>, stat=0, surface=\"しっとり\", feature=\"副詞,助詞類接続,*,*,*,*,しっとり,シットリ,シットリ\">,\n",
       " <natto.node.MeCabNode node=<cdata 'mecab_node_t *' 0x000001E0CF517C38>, stat=0, surface=\"と\", feature=\"助詞,格助詞,一般,*,*,*,と,ト,ト\">,\n",
       " <natto.node.MeCabNode node=<cdata 'mecab_node_t *' 0x000001E0CF95AF60>, stat=0, surface=\"し\", feature=\"動詞,自立,*,*,サ変・スル,連用形,する,シ,シ\">,\n",
       " <natto.node.MeCabNode node=<cdata 'mecab_node_t *' 0x000001E0CF95B100>, stat=0, surface=\"て\", feature=\"助詞,接続助詞,*,*,*,*,て,テ,テ\">,\n",
       " <natto.node.MeCabNode node=<cdata 'mecab_node_t *' 0x000001E0CF95B850>, stat=0, surface=\"かけ\", feature=\"動詞,非自立,*,*,一段,連用形,かける,カケ,カケ\">,\n",
       " <natto.node.MeCabNode node=<cdata 'mecab_node_t *' 0x000001E0CF95BD98>, stat=0, surface=\"流し\", feature=\"動詞,自立,*,*,五段・サ行,連用形,流す,ナガシ,ナガシ\">,\n",
       " <natto.node.MeCabNode node=<cdata 'mecab_node_t *' 0x000001E0CF95C210>, stat=0, surface=\"の\", feature=\"助詞,連体化,*,*,*,*,の,ノ,ノ\">,\n",
       " <natto.node.MeCabNode node=<cdata 'mecab_node_t *' 0x000001E0CF95C550>, stat=0, surface=\"お湯\", feature=\"名詞,一般,*,*,*,*,お湯,オユ,オユ\">,\n",
       " <natto.node.MeCabNode node=<cdata 'mecab_node_t *' 0x000001E0CF95C688>, stat=0, surface=\"は\", feature=\"助詞,係助詞,*,*,*,*,は,ハ,ワ\">,\n",
       " <natto.node.MeCabNode node=<cdata 'mecab_node_t *' 0x000001E0CF95CA30>, stat=0, surface=\"気持ち良かっ\", feature=\"形容詞,自立,*,*,形容詞・アウオ段,連用タ接続,気持ち良い,キモチヨカッ,キモチヨカッ\">,\n",
       " <natto.node.MeCabNode node=<cdata 'mecab_node_t *' 0x000001E0CF95D3F0>, stat=0, surface=\"た\", feature=\"助動詞,*,*,*,特殊・タ,基本形,た,タ,タ\">,\n",
       " <natto.node.MeCabNode node=<cdata 'mecab_node_t *' 0x000001E0CF95D9A0>, stat=0, surface=\"です\", feature=\"助動詞,*,*,*,特殊・デス,基本形,です,デス,デス\">,\n",
       " <natto.node.MeCabNode node=<cdata 'mecab_node_t *' 0x000001E0CF95DCE0>, stat=0, surface=\"。\", feature=\"記号,句点,*,*,*,*,。,。,。\">,\n",
       " <natto.node.MeCabNode node=<cdata 'mecab_node_t *' 0x000001E0CF95E228>, stat=0, surface=\"なかなか\", feature=\"副詞,助詞類接続,*,*,*,*,なかなか,ナカナカ,ナカナカ\">,\n",
       " <natto.node.MeCabNode node=<cdata 'mecab_node_t *' 0x000001E0CF95EB80>, stat=0, surface=\"遠い\", feature=\"形容詞,自立,*,*,形容詞・アウオ段,基本形,遠い,トオイ,トーイ\">,\n",
       " <natto.node.MeCabNode node=<cdata 'mecab_node_t *' 0x000001E0CF95F130>, stat=0, surface=\"ので\", feature=\"助詞,接続助詞,*,*,*,*,ので,ノデ,ノデ\">,\n",
       " <natto.node.MeCabNode node=<cdata 'mecab_node_t *' 0x000001E0CF95F6E0>, stat=0, surface=\"また\", feature=\"接続詞,*,*,*,*,*,また,マタ,マタ\">,\n",
       " <natto.node.MeCabNode node=<cdata 'mecab_node_t *' 0x000001E0CF95FA88>, stat=0, surface=\"チャンス\", feature=\"名詞,一般,*,*,*,*,チャンス,チャンス,チャンス\">,\n",
       " <natto.node.MeCabNode node=<cdata 'mecab_node_t *' 0x000001E0CF961218>, stat=0, surface=\"が\", feature=\"助詞,格助詞,一般,*,*,*,が,ガ,ガ\">,\n",
       " <natto.node.MeCabNode node=<cdata 'mecab_node_t *' 0x000001E0CF961900>, stat=0, surface=\"あれ\", feature=\"動詞,自立,*,*,五段・ラ行,仮定形,ある,アレ,アレ\">,\n",
       " <natto.node.MeCabNode node=<cdata 'mecab_node_t *' 0x000001E0CF961C40>, stat=0, surface=\"ば\", feature=\"助詞,接続助詞,*,*,*,*,ば,バ,バ\">,\n",
       " <natto.node.MeCabNode node=<cdata 'mecab_node_t *' 0x000001E0CF961D78>, stat=0, surface=\"伺い\", feature=\"動詞,自立,*,*,五段・ワ行促音便,連用形,伺う,ウカガイ,ウカガイ\">,\n",
       " <natto.node.MeCabNode node=<cdata 'mecab_node_t *' 0x000001E0CF961F80>, stat=0, surface=\"たい\", feature=\"助動詞,*,*,*,特殊・タイ,基本形,たい,タイ,タイ\">,\n",
       " <natto.node.MeCabNode node=<cdata 'mecab_node_t *' 0x000001E0CF9624C8>, stat=0, surface=\"と\", feature=\"助詞,格助詞,引用,*,*,*,と,ト,ト\">,\n",
       " <natto.node.MeCabNode node=<cdata 'mecab_node_t *' 0x000001E0CF9627A0>, stat=0, surface=\"思い\", feature=\"動詞,自立,*,*,五段・ワ行促音便,連用形,思う,オモイ,オモイ\">,\n",
       " <natto.node.MeCabNode node=<cdata 'mecab_node_t *' 0x000001E0CF962940>, stat=0, surface=\"ます\", feature=\"助動詞,*,*,*,特殊・マス,基本形,ます,マス,マス\">,\n",
       " <natto.node.MeCabNode node=<cdata 'mecab_node_t *' 0x000001E0CF962DB8>, stat=0, surface=\"。\", feature=\"記号,句点,*,*,*,*,。,。,。\">,\n",
       " <natto.node.MeCabNode node=<cdata 'mecab_node_t *' 0x000001E0CF962FC0>, stat=0, surface=\"鶴の舞橋\", feature=\"名詞,固有名詞,一般,*,*,*,鶴の舞橋,ツルノマイハシ,ツルノマイハシ\">,\n",
       " <natto.node.MeCabNode node=<cdata 'mecab_node_t *' 0x000001E0CF9636A8>, stat=0, surface=\"が\", feature=\"助詞,格助詞,一般,*,*,*,が,ガ,ガ\">,\n",
       " <natto.node.MeCabNode node=<cdata 'mecab_node_t *' 0x000001E0CF9637E0>, stat=0, surface=\"目\", feature=\"名詞,一般,*,*,*,*,目,メ,メ\">,\n",
       " <natto.node.MeCabNode node=<cdata 'mecab_node_t *' 0x000001E0CF963A50>, stat=0, surface=\"の\", feature=\"助詞,連体化,*,*,*,*,の,ノ,ノ\">,\n",
       " <natto.node.MeCabNode node=<cdata 'mecab_node_t *' 0x000001E0CF963B88>, stat=0, surface=\"前\", feature=\"名詞,副詞可能,*,*,*,*,前,マエ,マエ\">,\n",
       " <natto.node.MeCabNode node=<cdata 'mecab_node_t *' 0x000001E0CF963F30>, stat=0, surface=\"で\", feature=\"助詞,格助詞,一般,*,*,*,で,デ,デ\">,\n",
       " <natto.node.MeCabNode node=<cdata 'mecab_node_t *' 0x000001E0CF964270>, stat=0, surface=\"、\", feature=\"記号,読点,*,*,*,*,、,、,、\">,\n",
       " <natto.node.MeCabNode node=<cdata 'mecab_node_t *' 0x000001E0CF964340>, stat=0, surface=\"圧巻\", feature=\"名詞,一般,*,*,*,*,圧巻,アッカン,アッカン\">,\n",
       " <natto.node.MeCabNode node=<cdata 'mecab_node_t *' 0x000001E0CF964750>, stat=0, surface=\"でし\", feature=\"助動詞,*,*,*,特殊・デス,連用形,です,デシ,デシ\">,\n",
       " <natto.node.MeCabNode node=<cdata 'mecab_node_t *' 0x000001E0CF964AF8>, stat=0, surface=\"た\", feature=\"助動詞,*,*,*,特殊・タ,基本形,た,タ,タ\">,\n",
       " <natto.node.MeCabNode node=<cdata 'mecab_node_t *' 0x000001E0CF964C30>, stat=0, surface=\"。\", feature=\"記号,句点,*,*,*,*,。,。,。\">,\n",
       " <natto.node.MeCabNode node=<cdata 'mecab_node_t *' 0x000001E0CF964D00>, stat=0, surface=\"雪\", feature=\"名詞,一般,*,*,*,*,雪,ユキ,ユキ\">,\n",
       " <natto.node.MeCabNode node=<cdata 'mecab_node_t *' 0x000001E0CF964FD8>, stat=0, surface=\"が\", feature=\"助詞,格助詞,一般,*,*,*,が,ガ,ガ\">,\n",
       " <natto.node.MeCabNode node=<cdata 'mecab_node_t *' 0x000001E0CF965318>, stat=0, surface=\"舞い\", feature=\"動詞,自立,*,*,五段・ワ行促音便,連用形,舞う,マイ,マイ\">,\n",
       " <natto.node.MeCabNode node=<cdata 'mecab_node_t *' 0x000001E0CF965658>, stat=0, surface=\"散る\", feature=\"動詞,自立,*,*,五段・ラ行,基本形,散る,チル,チル\">,\n",
       " <natto.node.MeCabNode node=<cdata 'mecab_node_t *' 0x000001E0CF965930>, stat=0, surface=\"鶴の舞橋\", feature=\"名詞,固有名詞,一般,*,*,*,鶴の舞橋,ツルノマイハシ,ツルノマイハシ\">,\n",
       " <natto.node.MeCabNode node=<cdata 'mecab_node_t *' 0x000001E0CF965FB0>, stat=0, surface=\"も\", feature=\"助詞,係助詞,*,*,*,*,も,モ,モ\">,\n",
       " <natto.node.MeCabNode node=<cdata 'mecab_node_t *' 0x000001E0CF9660E8>, stat=0, surface=\"幻想\", feature=\"名詞,サ変接続,*,*,*,*,幻想,ゲンソウ,ゲンソー\">,\n",
       " <natto.node.MeCabNode node=<cdata 'mecab_node_t *' 0x000001E0CF966288>, stat=0, surface=\"的\", feature=\"名詞,接尾,形容動詞語幹,*,*,*,的,テキ,テキ\">,\n",
       " <natto.node.MeCabNode node=<cdata 'mecab_node_t *' 0x000001E0CF9662F0>, stat=0, surface=\"で\", feature=\"助動詞,*,*,*,特殊・ダ,連用形,だ,デ,デ\">,\n",
       " <natto.node.MeCabNode node=<cdata 'mecab_node_t *' 0x000001E0CF9669D8>, stat=0, surface=\"とても\", feature=\"副詞,助詞類接続,*,*,*,*,とても,トテモ,トテモ\">,\n",
       " <natto.node.MeCabNode node=<cdata 'mecab_node_t *' 0x000001E0CF967190>, stat=0, surface=\"良かっ\", feature=\"形容詞,自立,*,*,形容詞・アウオ段,連用タ接続,良い,ヨカッ,ヨカッ\">,\n",
       " <natto.node.MeCabNode node=<cdata 'mecab_node_t *' 0x000001E0CF9675A0>, stat=0, surface=\"た\", feature=\"助動詞,*,*,*,特殊・タ,基本形,た,タ,タ\">,\n",
       " <natto.node.MeCabNode node=<cdata 'mecab_node_t *' 0x000001E0CF967B50>, stat=0, surface=\"です\", feature=\"助動詞,*,*,*,特殊・デス,基本形,です,デス,デス\">,\n",
       " <natto.node.MeCabNode node=<cdata 'mecab_node_t *' 0x000001E0CFF2C0E0>, stat=0, surface=\"。\", feature=\"記号,句点,*,*,*,*,。,。,。\">,\n",
       " <natto.node.MeCabNode node=<cdata 'mecab_node_t *' 0x000001E0CFF2C350>, stat=0, surface=\"また\", feature=\"接続詞,*,*,*,*,*,また,マタ,マタ\">,\n",
       " <natto.node.MeCabNode node=<cdata 'mecab_node_t *' 0x000001E0CFF2C5C0>, stat=0, surface=\"足\", feature=\"名詞,一般,*,*,*,*,足,アシ,アシ\">,\n",
       " <natto.node.MeCabNode node=<cdata 'mecab_node_t *' 0x000001E0CFF2C760>, stat=0, surface=\"を\", feature=\"助詞,格助詞,一般,*,*,*,を,ヲ,ヲ\">,\n",
       " <natto.node.MeCabNode node=<cdata 'mecab_node_t *' 0x000001E0CFF2C968>, stat=0, surface=\"運び\", feature=\"動詞,自立,*,*,五段・バ行,連用形,運ぶ,ハコビ,ハコビ\">,\n",
       " <natto.node.MeCabNode node=<cdata 'mecab_node_t *' 0x000001E0CFF2D3F8>, stat=0, surface=\"たい\", feature=\"助動詞,*,*,*,特殊・タイ,基本形,たい,タイ,タイ\">,\n",
       " <natto.node.MeCabNode node=<cdata 'mecab_node_t *' 0x000001E0CFF2D940>, stat=0, surface=\"と\", feature=\"助詞,格助詞,引用,*,*,*,と,ト,ト\">,\n",
       " <natto.node.MeCabNode node=<cdata 'mecab_node_t *' 0x000001E0CFF2DC18>, stat=0, surface=\"思い\", feature=\"動詞,自立,*,*,五段・ワ行促音便,連用形,思う,オモイ,オモイ\">,\n",
       " <natto.node.MeCabNode node=<cdata 'mecab_node_t *' 0x000001E0CFF2DDB8>, stat=0, surface=\"ます\", feature=\"助動詞,*,*,*,特殊・マス,基本形,ます,マス,マス\">,\n",
       " <natto.node.MeCabNode node=<cdata 'mecab_node_t *' 0x000001E0CFF2E230>, stat=0, surface=\"。\", feature=\"記号,句点,*,*,*,*,。,。,。\">,\n",
       " <natto.node.MeCabNode node=<cdata 'mecab_node_t *' 0x000001E0CFF2E710>, stat=0, surface=\"ありがとう\", feature=\"感動詞,*,*,*,*,*,ありがとう,アリガトウ,アリガトー\">,\n",
       " <natto.node.MeCabNode node=<cdata 'mecab_node_t *' 0x000001E0CFF2F0D0>, stat=0, surface=\"ござい\", feature=\"助動詞,*,*,*,五段・ラ行特殊,連用形,ござる,ゴザイ,ゴザイ\">,\n",
       " <natto.node.MeCabNode node=<cdata 'mecab_node_t *' 0x000001E0CFF2FF70>, stat=0, surface=\"まし\", feature=\"助動詞,*,*,*,特殊・マス,連用形,ます,マシ,マシ\">,\n",
       " <natto.node.MeCabNode node=<cdata 'mecab_node_t *' 0x000001E0CFF304B8>, stat=0, surface=\"た\", feature=\"助動詞,*,*,*,特殊・タ,基本形,た,タ,タ\">,\n",
       " <natto.node.MeCabNode node=<cdata 'mecab_node_t *' 0x000001E0CFF305F0>, stat=0, surface=\"。\", feature=\"記号,句点,*,*,*,*,。,。,。\">,\n",
       " <natto.node.MeCabNode node=<cdata 'mecab_node_t *' 0x000001E0CFF306C0>, stat=3, surface=\"\", feature=\"BOS/EOS,*,*,*,*,*,*,*,*\">]"
      ]
     },
     "execution_count": 23,
     "metadata": {},
     "output_type": "execute_result"
    }
   ],
   "source": [
    "example_tokens"
   ]
  },
  {
   "cell_type": "code",
   "execution_count": 24,
   "metadata": {},
   "outputs": [
    {
     "data": {
      "text/plain": [
       "'名詞,副詞可能,*,*,*,*,先日,センジツ,センジツ'"
      ]
     },
     "execution_count": 24,
     "metadata": {},
     "output_type": "execute_result"
    }
   ],
   "source": [
    "example_tokens[0].feature"
   ]
  },
  {
   "cell_type": "code",
   "execution_count": 25,
   "metadata": {},
   "outputs": [
    {
     "data": {
      "text/plain": [
       "['名詞', '副詞可能', '*', '*', '*', '*', '先日', 'センジツ', 'センジツ']"
      ]
     },
     "execution_count": 25,
     "metadata": {},
     "output_type": "execute_result"
    }
   ],
   "source": [
    "example_tokens[0].feature.split(',')"
   ]
  },
  {
   "cell_type": "markdown",
   "metadata": {},
   "source": [
    "There are many things that show up here, but the important things to keep in mind are that the element with index 0 of this list is the word type of the token (noun, verb, punctuation, etc.), and the element with index -3 of this list is the root (or lemma) of the token."
   ]
  },
  {
   "cell_type": "markdown",
   "metadata": {},
   "source": [
    "We see that we have punctuation and some particles (e.g., で and です) here. Particles are essentially like the connector stop words in English.\n",
    "\n",
    "The great thing about `natto-py` is that this information is also available in the tokenizer, and so we can extract and filter based on it."
   ]
  },
  {
   "cell_type": "code",
   "execution_count": 26,
   "metadata": {},
   "outputs": [],
   "source": [
    "# defining the filters for position of speech and stem of the token\n",
    "\n",
    "def get_token_data(token: natto.node.MeCabNode, data: str):\n",
    "    '''Gets the relevant data from `token`\n",
    "\n",
    "    Parameters\n",
    "    ---\n",
    "    - `token`: A MeCab node\n",
    "    - `data`: A string representing the data to be extracted\n",
    "        - `'word'`: The word representation of the token\n",
    "        - `'pos'`: The part of speech that the token belongs to\n",
    "        - `'lemma'`: The lemma of the token\n",
    "    '''\n",
    "    \n",
    "    # splits token data into a list of features\n",
    "    token_features = token.feature.split(',')\n",
    "\n",
    "    if data == 'word':\n",
    "        return token.surface\n",
    "    \n",
    "    if data == 'pos':\n",
    "        return token_features[0]\n",
    "    \n",
    "    if data == 'lemma':\n",
    "        return token_features[-3]"
   ]
  },
  {
   "cell_type": "markdown",
   "metadata": {},
   "source": [
    "Now, we can define a new tokenizer that doesn't just take out punctuation (記号) and stop words, but also stems the words.\n",
    "\n",
    "For the sake of simplicity, we shall treat only particles (助詞), prefixes (接頭詞), conjunctions (接続詞), thanks/greetings (感動詞), and auxillary verbs (助動詞) as stop words (stemming would get rid of the latter either way). "
   ]
  },
  {
   "cell_type": "code",
   "execution_count": 27,
   "metadata": {},
   "outputs": [],
   "source": [
    "def tokenizer_ja(text: str):\n",
    "    '''Returns a list of stemmed tokens that excludes punctuation and grammar.\n",
    "    '''\n",
    "    # extracts out the nodes with token data into a list\n",
    "    token_nodes = [token for token in nm.parse(text, as_nodes=True) if token.is_nor()]\n",
    "\n",
    "    # removes punctuation and stop particles\n",
    "    excluded_pos = ['記号',     # punctuation\n",
    "                    '助詞',     # particles\n",
    "                    '助動詞',   # auxillary verbs\n",
    "                    '接頭詞',   # prefixes\n",
    "                    '接続詞',   # conjunctions\n",
    "                    '感動詞'    # exclamations of thanks / greetings\n",
    "                    ]\n",
    "    token_nodes_no_punc_stop = [token for token in token_nodes if get_token_data(token, 'pos') not in excluded_pos]\n",
    "\n",
    "    # stems the tokens\n",
    "    stemmed_tokens = [get_token_data(token, 'lemma') for token in token_nodes_no_punc_stop]\n",
    "\n",
    "    return stemmed_tokens\n",
    "\n",
    "def tokenizer_nouns_ja(text: str):\n",
    "    '''Returns a list of stemmed nouns that excludes punctuation and grammar.\n",
    "    '''\n",
    "    # extracts out the nodes with token data into a list\n",
    "    token_nodes = [token for token in nm.parse(text, as_nodes=True) if token.is_nor()]\n",
    "\n",
    "    # extracts out only the nouns\n",
    "    token_nodes_nouns = [token for token in token_nodes if get_token_data(token, 'pos') == '名詞']\n",
    "\n",
    "    # stems the tokens\n",
    "    stemmed_tokens = [get_token_data(token, 'lemma') for token in token_nodes_nouns]\n",
    "\n",
    "    return stemmed_tokens\n",
    "    \n",
    "    "
   ]
  },
  {
   "cell_type": "markdown",
   "metadata": {},
   "source": [
    "Let's see this in action."
   ]
  },
  {
   "cell_type": "code",
   "execution_count": 28,
   "metadata": {},
   "outputs": [
    {
     "data": {
      "text/plain": [
       "['先日',\n",
       " 'お世話',\n",
       " 'なる',\n",
       " '夕食',\n",
       " '部屋',\n",
       " '食',\n",
       " '変更',\n",
       " '食事',\n",
       " 'とても',\n",
       " '味付け',\n",
       " '良い',\n",
       " '量',\n",
       " '適量',\n",
       " '本当に',\n",
       " 'ゆっくり',\n",
       " '食事',\n",
       " '出来る',\n",
       " '良い',\n",
       " '浴場',\n",
       " 'お湯',\n",
       " 'しっとり',\n",
       " 'する',\n",
       " 'かける',\n",
       " '流す',\n",
       " 'お湯',\n",
       " '気持ち良い',\n",
       " 'なかなか',\n",
       " '遠い',\n",
       " 'チャンス',\n",
       " 'ある',\n",
       " '伺う',\n",
       " '思う',\n",
       " '鶴の舞橋',\n",
       " '目',\n",
       " '前',\n",
       " '圧巻',\n",
       " '雪',\n",
       " '舞う',\n",
       " '散る',\n",
       " '鶴の舞橋',\n",
       " '幻想',\n",
       " '的',\n",
       " 'とても',\n",
       " '良い',\n",
       " '足',\n",
       " '運ぶ',\n",
       " '思う']"
      ]
     },
     "execution_count": 28,
     "metadata": {},
     "output_type": "execute_result"
    }
   ],
   "source": [
    "tokenizer_ja(example_text)"
   ]
  },
  {
   "cell_type": "markdown",
   "metadata": {},
   "source": [
    "Works like a charm.\n",
    "\n",
    "We can now throw this into `CountVectorizer` and look at the words with the highest frequency."
   ]
  },
  {
   "cell_type": "code",
   "execution_count": 29,
   "metadata": {},
   "outputs": [],
   "source": [
    "# defining a custom list of Japanese stop words\n",
    "stop_words_ja = ['する', 'ある', 'いる', 'れる', 'せる', 'なる', 'こと', 'ない', 'もの', '何', '月', '日', '時', 'の']"
   ]
  },
  {
   "cell_type": "code",
   "execution_count": 30,
   "metadata": {},
   "outputs": [],
   "source": [
    "def word_frequency_plotter(dataframe: pd.DataFrame,\n",
    "                           n_grams: int = 1,\n",
    "                           top: int = 30,\n",
    "                           plot: bool = True,\n",
    "                           nouns_only: bool = False):\n",
    "    '''Trains a CountVectorizer instance on the Rakuten hotel reviews.\n",
    "\n",
    "    Returns\n",
    "    ---\n",
    "    A pair `(CountVectorizer, sorted dictionary of tokens and frequencies)`\n",
    "    - CountVectorizer object, fitted on the reviews in the DataFrame\n",
    "    - A sorted dictionary\n",
    "        - Keys are tokens in the vectorizer's dictionary\n",
    "        - Values are the respective document frequencies as a percentage of the total\n",
    "    - A plot of the respective top `top` word frequencies\n",
    "\n",
    "    Parameters\n",
    "    ---\n",
    "    - `dataframe`: A pandas DataFrame\n",
    "    - `n-grams`: int. default=1\n",
    "        - Number of consecutive tokens to consider\n",
    "    - `top`: int. default=30\n",
    "        - Returns a plot of the top `top` words in the corpus.\n",
    "    - `plot`: bool. default=True\n",
    "        - If False, returns only the fitted CountVectorizer and dictionary of word frequencies\n",
    "    - `nouns_only`: bool. default=False\n",
    "        - If True, returns only the tokenized nouns.\n",
    "    '''\n",
    "\n",
    "    # gets reviews\n",
    "    reviews = dataframe['review_text']\n",
    "\n",
    "    if nouns_only:\n",
    "        tokenizer = tokenizer_nouns_ja\n",
    "    else:\n",
    "        tokenizer = tokenizer_ja\n",
    "\n",
    "    # initializes CountVectorizer() with our custom Japanese tokenizer\n",
    "    cvec_ja = CountVectorizer(tokenizer=tokenizer, \n",
    "                              ngram_range=(n_grams, n_grams),\n",
    "                              stop_words=stop_words_ja)\n",
    "\n",
    "    # fits the CountVectorizer on the corpus\n",
    "    cvec_ja_sparse = cvec_ja.fit_transform(reviews)\n",
    "\n",
    "    # gets array of word counts\n",
    "    # this uses the .sum() method for numpy sparse matrices\n",
    "    # it is much more efficient than converting to a dense matrix and summing that \n",
    "    cvec_ja_sums = np.asarray(cvec_ja_sparse.sum(axis=0)).ravel()\n",
    "\n",
    "    # generates dictionary of tokens with total counts\n",
    "    count_dict = {word: cvec_ja_sums[cvec_ja.vocabulary_[word]] for word in cvec_ja.get_feature_names_out()}\n",
    "\n",
    "    # sorts the resulting dictionary in decreasing order (higher frequencies first)\n",
    "    sorted_dict = {key: value for key, value in sorted(count_dict.items(), key=lambda x: x[1], reverse=True)}\n",
    "\n",
    "    if plot:\n",
    "        # we need MS Gothic in order to render Japanese text in the plot\n",
    "        # matplotlib will try sans-serif first\n",
    "        # if the text cannot be rendered in sans-serif\n",
    "        # then matplotlib tries MS Gothic\n",
    "        plt.rcParams['font.family'] = ['sans-serif', 'MS Gothic']\n",
    "\n",
    "        # plots the frequencies\n",
    "        plt.figure(figsize=(20,10))\n",
    "        plt.barh(y=list(sorted_dict.keys())[:top][::-1], width=list(sorted_dict.values())[:top][::-1])\n",
    "        plt.title(f'Frequency of top {top} most common {n_grams}-gram{\" nouns\" if nouns_only else \"s\"}')\n",
    "        plt.xlabel(f'Number of occurrences of the given {\"noun\" if nouns_only else \"word\"}')\n",
    "        plt.ylabel(f'Most common {\"nouns\" if nouns_only else \"words\"}')\n",
    "\n",
    "    return cvec_ja, dict(list(sorted_dict.items())[:top])"
   ]
  },
  {
   "cell_type": "code",
   "execution_count": 31,
   "metadata": {},
   "outputs": [
    {
     "name": "stderr",
     "output_type": "stream",
     "text": [
      "c:\\Users\\weich\\anaconda3\\Lib\\site-packages\\sklearn\\feature_extraction\\text.py:525: UserWarning: The parameter 'token_pattern' will not be used since 'tokenizer' is not None'\n",
      "  warnings.warn(\n"
     ]
    },
    {
     "data": {
      "text/plain": [
       "(CountVectorizer(stop_words=['する', 'ある', 'いる', 'れる', 'せる', 'なる', 'こと', 'ない',\n",
       "                             'もの', '何', '月', '日', '時', 'の'],\n",
       "                 tokenizer=<function tokenizer_nouns_ja at 0x000001E0D85F2A20>),\n",
       " {'部屋': 4123,\n",
       "  '利用': 2539,\n",
       "  'ホテル': 2030,\n",
       "  '朝食': 1996,\n",
       "  '宿泊': 1935,\n",
       "  '食事': 1708,\n",
       "  '風呂': 1702,\n",
       "  '満足': 1481,\n",
       "  '温泉': 1329,\n",
       "  '方': 1277,\n",
       "  'スタッフ': 1024,\n",
       "  '対応': 1002,\n",
       "  '駅': 998,\n",
       "  '人': 899,\n",
       "  '残念': 895,\n",
       "  '浴場': 836,\n",
       "  '大変': 813,\n",
       "  '場': 787,\n",
       "  'サービス': 756,\n",
       "  '最高': 741,\n",
       "  '立地': 723,\n",
       "  'よう': 717,\n",
       "  '料理': 712,\n",
       "  '時間': 711,\n",
       "  'フロント': 708,\n",
       "  '便利': 678,\n",
       "  '綺麗': 677,\n",
       "  '的': 674,\n",
       "  'さ': 669,\n",
       "  '夕食': 648,\n",
       "  '近く': 647,\n",
       "  '快適': 637,\n",
       "  '駐車': 637,\n",
       "  'さん': 634,\n",
       "  '宿': 616,\n",
       "  '今回': 608,\n",
       "  '気': 587,\n",
       "  'バイキング': 550,\n",
       "  '朝': 541,\n",
       "  '予約': 514,\n",
       "  '泊': 509,\n",
       "  '事': 507,\n",
       "  '中': 506,\n",
       "  'チェックイン': 501,\n",
       "  '前': 492,\n",
       "  '露天風呂': 475,\n",
       "  'ため': 474,\n",
       "  'バス': 460,\n",
       "  '感じ': 450,\n",
       "  '一': 448,\n",
       "  '種類': 418,\n",
       "  '清潔': 403,\n",
       "  '感': 400,\n",
       "  '私': 400,\n",
       "  '丁寧': 397,\n",
       "  'ところ': 392,\n",
       "  '際': 387,\n",
       "  'アメニティ': 373,\n",
       "  'コンビニ': 372,\n",
       "  '無料': 367,\n",
       "  '家族': 364,\n",
       "  '他': 363,\n",
       "  '店': 363,\n",
       "  '度': 359,\n",
       "  '目': 354,\n",
       "  '旅行': 351,\n",
       "  '分': 340,\n",
       "  '１': 335,\n",
       "  '子供': 329,\n",
       "  'お世話': 328,\n",
       "  '親切': 322,\n",
       "  'プラン': 317,\n",
       "  'こちら': 316,\n",
       "  '階': 309,\n",
       "  'ベッド': 308,\n",
       "  '機会': 308,\n",
       "  '点': 303,\n",
       "  'トイレ': 298,\n",
       "  '２': 297,\n",
       "  'きれい': 293,\n",
       "  '湯': 293,\n",
       "  '後': 286,\n",
       "  '夜': 282,\n",
       "  '等': 282,\n",
       "  'ご飯': 277,\n",
       "  '仙台': 276,\n",
       "  '問題': 275,\n",
       "  '回': 274,\n",
       "  '付き': 271,\n",
       "  '設備': 264,\n",
       "  'ビジネス': 263,\n",
       "  '所': 260,\n",
       "  'それ': 256,\n",
       "  '接客': 253,\n",
       "  '車': 253,\n",
       "  'お湯': 251,\n",
       "  '場所': 250,\n",
       "  '値段': 246,\n",
       "  '施設': 242,\n",
       "  '普通': 241})"
      ]
     },
     "execution_count": 31,
     "metadata": {},
     "output_type": "execute_result"
    }
   ],
   "source": [
    "word_frequency_plotter(japanese_reviews_df, n_grams=1, top=100, plot=False, nouns_only=True)"
   ]
  },
  {
   "cell_type": "markdown",
   "metadata": {},
   "source": [
    "### Bringing it back to reviews\n",
    "\n",
    "Recall that we have 6 different aspects to consider - Service, Location, Room, Amenities, Bathroom, Food.\n",
    "\n",
    "We shall use the keywords obtained by a brief scan of the most commonly used nouns and adjectives in the corpus to identify the different aspects of a review, if any.\n",
    "\n",
    "The keywords identified so far are as follows:\n",
    "\n",
    "|Aspect|Definition|Keywords|\n",
    "|---|---|---|\n",
    "|Service|Acts of help towards customer satisfaction|サービス, スタッフ, フロント, チェックイン, 丁寧, 親切, 接客, サーバ|\n",
    "|Location|Access and landscape around the hotel|立地, 駅, バス, 近く, 便利, 駐車, コンビニ, 場所|\n",
    "|Room|The attributes of the room|部屋, 広い, 宿泊, ベッド, 値段|\n",
    "|Amenities|Other facilities in the hotel excluding the room and bath|アメニティ, 無料|\n",
    "|Bathroom|Bath in the hotel room, or a public bath|風呂, 温泉, 浴場, 露天風呂, 清潔, 湯, トイレ|\n",
    "|Food|Morning or evening meals|朝食, 食事, 料理, 夕食, バイキング, メニュー, ご飯,  酒, 飲|"
   ]
  },
  {
   "cell_type": "markdown",
   "metadata": {},
   "source": [
    "Let us now try to identify different aspects in an example review, taken from one of our data points."
   ]
  },
  {
   "cell_type": "code",
   "execution_count": 32,
   "metadata": {},
   "outputs": [
    {
     "data": {
      "text/plain": [
       "'【良かった点】・部屋から見える景色が素晴らしく大満足。・フロントの対応が丁寧。【気になった点】・全室禁煙を知らなかった（当方の確認不足もあるが）予約時に禁煙や喫煙の記載がなかったので気にしてなかったが、部屋に灰皿がないのでフロントに電話で聞いたところ、全室禁煙とのこと。施設外まで出る必要があり、イマイチのんびり出来なかった。・部屋の髪の毛白いソファーに長い髪の毛が2本。ソファーが白なので目立ちました。・食事の質とサービス食事の質は普通であり、量もちょうどよかったが、質は宿泊料金に見合ってないように感じた。食事会場では係の方全員が厨房側に入り、会場に誰もいない時間が多々あった。飲み物を追加したいが、係の人が来るまで5分程度待った（大声で呼ぶことも考えたが、周囲のお客様に迷惑と思った）。朝食は席に着いても説明がなく戸惑った。・感染対策浴場と脱衣所でマスクなしでの会話が目立つ（地元の日帰り客のようです）。地元の方にも人気のある温泉のようで夕方は混み合う。そして顔見知りの方々の会話が長く続いている。マスク無しでの会話について、ホテル側から特にお願いはないようです（張り紙とか何もなかった）。また、夕食、朝食会場の席が部屋番号ごとに指定されていたが、使ってない席もあるのに分散させていない。改善されれば幸いです。'"
      ]
     },
     "execution_count": 32,
     "metadata": {},
     "output_type": "execute_result"
    }
   ],
   "source": [
    "example_review_for_aspects = tohoku_reviews_df['review_text'][4]\n",
    "example_review_for_aspects"
   ]
  },
  {
   "cell_type": "markdown",
   "metadata": {},
   "source": [
    "Given a review, we would want to break it up into tokens (this time sentence-based) and classify them based on the keywords present. Let us first define the different categories as per the table above."
   ]
  },
  {
   "cell_type": "code",
   "execution_count": 33,
   "metadata": {},
   "outputs": [
    {
     "data": {
      "text/plain": [
       "{'サービス': 'service',\n",
       " 'スタッフ': 'service',\n",
       " 'フロント': 'service',\n",
       " 'チェックイン': 'service',\n",
       " '丁寧': 'service',\n",
       " '親切': 'service',\n",
       " '接客': 'service',\n",
       " 'サーバ': 'service',\n",
       " '立地': 'location',\n",
       " '駅': 'location',\n",
       " 'バス': 'location',\n",
       " '近く': 'location',\n",
       " '便利': 'location',\n",
       " '駐車': 'location',\n",
       " 'コンビニ': 'location',\n",
       " '場所': 'location',\n",
       " '部屋': 'room',\n",
       " '広い': 'room',\n",
       " '宿泊': 'room',\n",
       " 'ベッド': 'room',\n",
       " '値段': 'room',\n",
       " 'アメニティ': 'amenities',\n",
       " '無料': 'amenities',\n",
       " '風呂': 'bathroom',\n",
       " '温泉': 'bathroom',\n",
       " '浴場': 'bathroom',\n",
       " '露天風呂': 'bathroom',\n",
       " '清潔': 'bathroom',\n",
       " '湯': 'bathroom',\n",
       " 'トイレ': 'bathroom',\n",
       " '朝食': 'food',\n",
       " '食事': 'food',\n",
       " '料理': 'food',\n",
       " '夕食': 'food',\n",
       " 'バイキング': 'food',\n",
       " 'メニュー': 'food',\n",
       " 'ご飯': 'food',\n",
       " '酒': 'food',\n",
       " '飲': 'food'}"
      ]
     },
     "execution_count": 33,
     "metadata": {},
     "output_type": "execute_result"
    }
   ],
   "source": [
    "# aspect categories\n",
    "aspect_words = {\n",
    "    'service': ['サービス', 'スタッフ', 'フロント', 'チェックイン', '丁寧', '親切', '接客', 'サーバ'],\n",
    "    'location': ['立地', '駅', 'バス', '近く', '便利', '駐車', 'コンビニ', '場所'],\n",
    "    'room': ['部屋', '広い', '宿泊', 'ベッド', '値段'], \n",
    "    'amenities': ['アメニティ', '無料'],\n",
    "    'bathroom': ['風呂', '温泉', '浴場', '露天風呂', '清潔', '湯', 'トイレ'],\n",
    "    'food': ['朝食', '食事', '料理', '夕食', 'バイキング', 'メニュー', 'ご飯', '酒', '飲']\n",
    "}\n",
    "\n",
    "words_aspect = {word: aspect for aspect, word_list in aspect_words.items() for word in word_list}\n",
    "words_aspect"
   ]
  },
  {
   "cell_type": "markdown",
   "metadata": {},
   "source": [
    "Now we take a review and break it up into sentence-like fragments (separated by periods). For simplicity, we shall first assume that each aspect is contained within a sentence (if any). For aspects which span at least 2 sentences, we would leave them be for now."
   ]
  },
  {
   "cell_type": "code",
   "execution_count": 34,
   "metadata": {},
   "outputs": [],
   "source": [
    "def has_aspect(aspect: str, text: str):\n",
    "    '''Returns a boolean describing whether a document contains an aspect word or not\n",
    "    '''\n",
    "    # this returns True if it exists in the list\n",
    "    # otherwise returns False\n",
    "    return max([(word in text) for word in aspect_words[aspect]])"
   ]
  },
  {
   "cell_type": "code",
   "execution_count": 35,
   "metadata": {},
   "outputs": [
    {
     "name": "stdout",
     "output_type": "stream",
     "text": [
      "True\n",
      "False\n"
     ]
    }
   ],
   "source": [
    "# test cases\n",
    "print(has_aspect('service', example_review_for_aspects))\n",
    "print(has_aspect('amenities', example_review_for_aspects))"
   ]
  },
  {
   "cell_type": "code",
   "execution_count": 36,
   "metadata": {},
   "outputs": [
    {
     "data": {
      "text/plain": [
       "['service', 'room', 'bathroom', 'food']"
      ]
     },
     "execution_count": 36,
     "metadata": {},
     "output_type": "execute_result"
    }
   ],
   "source": [
    "# extracting existing aspects in a review\n",
    "example_review_for_aspects_aspects = [aspect for aspect in aspect_words if has_aspect(aspect, example_review_for_aspects)]\n",
    "example_review_for_aspects_aspects"
   ]
  },
  {
   "cell_type": "code",
   "execution_count": 37,
   "metadata": {},
   "outputs": [],
   "source": [
    "# assigning aspects to each sentence in the review that has any\n",
    "def label_sentence_aspects(text):\n",
    "    '''Returns a dictionary of sentences in `text` with their corresponding aspects.\n",
    "    '''\n",
    "    list_of_aspects = [aspect for aspect in aspect_words if has_aspect(aspect, text)]\n",
    "    \n",
    "    aspect_decomposition = {}\n",
    "\n",
    "    for sentence in re.split('。', text):\n",
    "        for aspect in list_of_aspects:\n",
    "            if sentence not in aspect_decomposition and has_aspect(aspect, sentence):\n",
    "                aspect_decomposition[sentence] = [aspect]\n",
    "            elif sentence in aspect_decomposition and has_aspect(aspect, sentence):\n",
    "                aspect_decomposition[sentence].append(aspect)\n",
    "    \n",
    "    return aspect_decomposition\n",
    "\n"
   ]
  },
  {
   "cell_type": "markdown",
   "metadata": {},
   "source": [
    "From here, we can attempt to assign a tag for the aspect that each sentence has."
   ]
  },
  {
   "cell_type": "code",
   "execution_count": 38,
   "metadata": {},
   "outputs": [
    {
     "data": {
      "text/plain": [
       "{'【良かった点】・部屋から見える景色が素晴らしく大満足': ['room'],\n",
       " '・フロントの対応が丁寧': ['service'],\n",
       " '【気になった点】・全室禁煙を知らなかった（当方の確認不足もあるが）予約時に禁煙や喫煙の記載がなかったので気にしてなかったが、部屋に灰皿がないのでフロントに電話で聞いたところ、全室禁煙とのこと': ['service',\n",
       "  'room'],\n",
       " '・部屋の髪の毛白いソファーに長い髪の毛が2本': ['room'],\n",
       " '・食事の質とサービス食事の質は普通であり、量もちょうどよかったが、質は宿泊料金に見合ってないように感じた': ['service',\n",
       "  'room',\n",
       "  'food'],\n",
       " '食事会場では係の方全員が厨房側に入り、会場に誰もいない時間が多々あった': ['food'],\n",
       " '飲み物を追加したいが、係の人が来るまで5分程度待った（大声で呼ぶことも考えたが、周囲のお客様に迷惑と思った）': ['food'],\n",
       " '朝食は席に着いても説明がなく戸惑った': ['food'],\n",
       " '・感染対策浴場と脱衣所でマスクなしでの会話が目立つ（地元の日帰り客のようです）': ['bathroom'],\n",
       " '地元の方にも人気のある温泉のようで夕方は混み合う': ['bathroom'],\n",
       " 'また、夕食、朝食会場の席が部屋番号ごとに指定されていたが、使ってない席もあるのに分散させていない': ['room', 'food']}"
      ]
     },
     "execution_count": 38,
     "metadata": {},
     "output_type": "execute_result"
    }
   ],
   "source": [
    "label_sentence_aspects(example_review_for_aspects)"
   ]
  },
  {
   "cell_type": "markdown",
   "metadata": {},
   "source": [
    "In fact, let us change the output of the sentence tagger a tad bit, just to make sentiment analysis easier."
   ]
  },
  {
   "cell_type": "code",
   "execution_count": 39,
   "metadata": {},
   "outputs": [],
   "source": [
    "# assigning aspects to each sentence in the review that has any\n",
    "def label_aspects_sentence(text):\n",
    "    '''Returns a dictionary of aspects in `text` with their corresponding sentences.\n",
    "    '''\n",
    "    list_of_aspects = [aspect for aspect in aspect_words if has_aspect(aspect, text)]\n",
    "    \n",
    "    aspect_decomposition = {}\n",
    "\n",
    "    for sentence in re.split('。', text):\n",
    "        for aspect in list_of_aspects:\n",
    "            # all we did here is to swap the aspects and the sentences in the key:value pairs\n",
    "            if aspect not in aspect_decomposition and has_aspect(aspect, sentence):\n",
    "                aspect_decomposition[aspect] = [sentence]\n",
    "            elif aspect in aspect_decomposition and has_aspect(aspect, sentence):\n",
    "                aspect_decomposition[aspect].append(sentence)\n",
    "    \n",
    "    return aspect_decomposition\n",
    "\n"
   ]
  },
  {
   "cell_type": "code",
   "execution_count": 40,
   "metadata": {},
   "outputs": [
    {
     "data": {
      "text/plain": [
       "{'room': ['【良かった点】・部屋から見える景色が素晴らしく大満足',\n",
       "  '【気になった点】・全室禁煙を知らなかった（当方の確認不足もあるが）予約時に禁煙や喫煙の記載がなかったので気にしてなかったが、部屋に灰皿がないのでフロントに電話で聞いたところ、全室禁煙とのこと',\n",
       "  '・部屋の髪の毛白いソファーに長い髪の毛が2本',\n",
       "  '・食事の質とサービス食事の質は普通であり、量もちょうどよかったが、質は宿泊料金に見合ってないように感じた',\n",
       "  'また、夕食、朝食会場の席が部屋番号ごとに指定されていたが、使ってない席もあるのに分散させていない'],\n",
       " 'service': ['・フロントの対応が丁寧',\n",
       "  '【気になった点】・全室禁煙を知らなかった（当方の確認不足もあるが）予約時に禁煙や喫煙の記載がなかったので気にしてなかったが、部屋に灰皿がないのでフロントに電話で聞いたところ、全室禁煙とのこと',\n",
       "  '・食事の質とサービス食事の質は普通であり、量もちょうどよかったが、質は宿泊料金に見合ってないように感じた'],\n",
       " 'food': ['・食事の質とサービス食事の質は普通であり、量もちょうどよかったが、質は宿泊料金に見合ってないように感じた',\n",
       "  '食事会場では係の方全員が厨房側に入り、会場に誰もいない時間が多々あった',\n",
       "  '飲み物を追加したいが、係の人が来るまで5分程度待った（大声で呼ぶことも考えたが、周囲のお客様に迷惑と思った）',\n",
       "  '朝食は席に着いても説明がなく戸惑った',\n",
       "  'また、夕食、朝食会場の席が部屋番号ごとに指定されていたが、使ってない席もあるのに分散させていない'],\n",
       " 'bathroom': ['・感染対策浴場と脱衣所でマスクなしでの会話が目立つ（地元の日帰り客のようです）',\n",
       "  '地元の方にも人気のある温泉のようで夕方は混み合う']}"
      ]
     },
     "execution_count": 40,
     "metadata": {},
     "output_type": "execute_result"
    }
   ],
   "source": [
    "label_aspects_sentence(example_review_for_aspects)"
   ]
  },
  {
   "cell_type": "markdown",
   "metadata": {},
   "source": [
    "Works like a charm. We will now keep this for the sentiment analyzer to pick up later."
   ]
  },
  {
   "cell_type": "markdown",
   "metadata": {},
   "source": [
    "This now allows us to filter for parts of the review by aspects, and also has the advantage of ignoring sentences which do not contain any aspect.\n",
    "\n",
    "However, a possible drawback to this sentence-based approach is that aspect chunks that span multiple sentences will not get picked up."
   ]
  },
  {
   "cell_type": "markdown",
   "metadata": {},
   "source": [
    "# Sentiment Analysis in Japanese\n",
    "\n",
    "While quite a number of sentiment analyzers in python are available for the Japanese language, we first use the [`oseti` library](https://github.com/ikegami-yukino/oseti) for this project. The word `oseti` references the Japanese \"osechi ryouri\", a term used to refer to a feast eaten during the Japanese New Year.\n",
    "\n",
    "The reason is that many Japanese sentiment analyzers available are pre-trained models using BERT, such as [a model trained on sentences from Amazon reviews](https://huggingface.co/christian-phu/bert-finetuned-japanese-sentiment), and [a model trained on the chABSA dataset](https://github.com/jarvisx17/Sentiment-Analysis), which is a (rather well-known) publicly available dataset of Japanese financial reports labeled by aspect-based sentiment. \n",
    "\n",
    "Another publicly available model that many of the BERT models is based on would be the `BERT-base` and `BERT-large` models trained on Japanese Wikipedia by researchers from the [Tohoku NLP Group](https://github.com/cl-tohoku/bert-japanese/tree/v2.0). Though they all work well for their respective contexts, a concern is that they would not be able to fit our context too well.\n",
    "\n",
    "On the other hand, `oseti` works purely using a dictionary-based approach, so that it may perhaps fit better to our context of hotel review analysis.\n",
    "\n",
    "That said, if time permits, we may try out the other models and see how they fare against `oseti`."
   ]
  },
  {
   "cell_type": "code",
   "execution_count": 41,
   "metadata": {},
   "outputs": [],
   "source": [
    "# initializing the analyzer\n",
    "init_analyzer = oseti.Analyzer()"
   ]
  },
  {
   "cell_type": "markdown",
   "metadata": {},
   "source": [
    "Let's try it out."
   ]
  },
  {
   "cell_type": "code",
   "execution_count": 42,
   "metadata": {},
   "outputs": [
    {
     "data": {
      "text/plain": [
       "['【良かった点】・部屋から見える景色が素晴らしく大満足',\n",
       " '・フロントの対応が丁寧',\n",
       " '【気になった点】・全室禁煙を知らなかった（当方の確認不足もあるが）予約時に禁煙や喫煙の記載がなかったので気にしてなかったが、部屋に灰皿がないのでフロントに電話で聞いたところ、全室禁煙とのこと',\n",
       " '施設外まで出る必要があり、イマイチのんびり出来なかった',\n",
       " '・部屋の髪の毛白いソファーに長い髪の毛が2本',\n",
       " 'ソファーが白なので目立ちました',\n",
       " '・食事の質とサービス食事の質は普通であり、量もちょうどよかったが、質は宿泊料金に見合ってないように感じた',\n",
       " '食事会場では係の方全員が厨房側に入り、会場に誰もいない時間が多々あった',\n",
       " '飲み物を追加したいが、係の人が来るまで5分程度待った（大声で呼ぶことも考えたが、周囲のお客様に迷惑と思った）',\n",
       " '朝食は席に着いても説明がなく戸惑った',\n",
       " '・感染対策浴場と脱衣所でマスクなしでの会話が目立つ（地元の日帰り客のようです）',\n",
       " '地元の方にも人気のある温泉のようで夕方は混み合う',\n",
       " 'そして顔見知りの方々の会話が長く続いている',\n",
       " 'マスク無しでの会話について、ホテル側から特にお願いはないようです（張り紙とか何もなかった）',\n",
       " 'また、夕食、朝食会場の席が部屋番号ごとに指定されていたが、使ってない席もあるのに分散させていない',\n",
       " '改善されれば幸いです',\n",
       " '']"
      ]
     },
     "execution_count": 42,
     "metadata": {},
     "output_type": "execute_result"
    }
   ],
   "source": [
    "broken_up_example_review = re.split('。', example_review_for_aspects)\n",
    "broken_up_example_review"
   ]
  },
  {
   "cell_type": "code",
   "execution_count": 43,
   "metadata": {},
   "outputs": [
    {
     "data": {
      "text/plain": [
       "[1.0]"
      ]
     },
     "execution_count": 43,
     "metadata": {},
     "output_type": "execute_result"
    }
   ],
   "source": [
    "init_analyzer.analyze(broken_up_example_review[0])"
   ]
  },
  {
   "cell_type": "code",
   "execution_count": 44,
   "metadata": {},
   "outputs": [
    {
     "data": {
      "text/plain": [
       "[{'positive': ['良い', '景色', '素晴らしい', '満足'], 'negative': [], 'score': 1.0}]"
      ]
     },
     "execution_count": 44,
     "metadata": {},
     "output_type": "execute_result"
    }
   ],
   "source": [
    "init_analyzer.analyze_detail(broken_up_example_review[0])"
   ]
  },
  {
   "cell_type": "code",
   "execution_count": 45,
   "metadata": {},
   "outputs": [
    {
     "data": {
      "text/plain": [
       "[1.0,\n",
       " 1.0,\n",
       " 0.2,\n",
       " 0.0,\n",
       " 0,\n",
       " 1.0,\n",
       " -0.6666666666666666,\n",
       " 0,\n",
       " 0.0,\n",
       " -1.0,\n",
       " 0.0,\n",
       " 0.3333333333333333,\n",
       " 0,\n",
       " 0,\n",
       " 0,\n",
       " 1.0]"
      ]
     },
     "execution_count": 45,
     "metadata": {},
     "output_type": "execute_result"
    }
   ],
   "source": [
    "init_analyzer.analyze(example_review_for_aspects)"
   ]
  },
  {
   "cell_type": "code",
   "execution_count": 46,
   "metadata": {},
   "outputs": [
    {
     "data": {
      "text/plain": [
       "[('【良かった点】・部屋から見える景色が素晴らしく大満足',\n",
       "  {'positive': ['良い', '景色', '素晴らしい', '満足'], 'negative': [], 'score': 1.0}),\n",
       " ('・フロントの対応が丁寧', {'positive': ['丁寧'], 'negative': [], 'score': 1.0}),\n",
       " ('【気になった点】・全室禁煙を知らなかった（当方の確認不足もあるが）予約時に禁煙や喫煙の記載がなかったので気にしてなかったが、部屋に灰皿がないのでフロントに電話で聞いたところ、全室禁煙とのこと',\n",
       "  {'positive': ['不足-NEGATION', '喫煙-NEGATION', '禁煙'],\n",
       "   'negative': ['禁煙-NEGATION', '禁煙-NEGATION'],\n",
       "   'score': 0.2}),\n",
       " ('施設外まで出る必要があり、イマイチのんびり出来なかった',\n",
       "  {'positive': ['出来る'], 'negative': ['イマイチ'], 'score': 0.0}),\n",
       " ('・部屋の髪の毛白いソファーに長い髪の毛が2本', {'positive': [], 'negative': [], 'score': 0.0}),\n",
       " ('ソファーが白なので目立ちました', {'positive': ['目立つ'], 'negative': [], 'score': 1.0}),\n",
       " ('・食事の質とサービス食事の質は普通であり、量もちょうどよかったが、質は宿泊料金に見合ってないように感じた',\n",
       "  {'positive': ['料金-NEGATION'],\n",
       "   'negative': ['質-NEGATION',\n",
       "    'サービス-NEGATION',\n",
       "    '質-NEGATION',\n",
       "    '量-NEGATION',\n",
       "    '質-NEGATION'],\n",
       "   'score': -0.6666666666666666}),\n",
       " ('食事会場では係の方全員が厨房側に入り、会場に誰もいない時間が多々あった',\n",
       "  {'positive': [], 'negative': [], 'score': 0.0}),\n",
       " ('飲み物を追加したいが、係の人が来るまで5分程度待った（大声で呼ぶことも考えたが、周囲のお客様に迷惑と思った）',\n",
       "  {'positive': ['お客様'], 'negative': ['迷惑'], 'score': 0.0}),\n",
       " ('朝食は席に着いても説明がなく戸惑った', {'positive': [], 'negative': ['戸惑う'], 'score': -1.0}),\n",
       " ('・感染対策浴場と脱衣所でマスクなしでの会話が目立つ（地元の日帰り客のようです）',\n",
       "  {'positive': ['目立つ'], 'negative': ['感染'], 'score': 0.0}),\n",
       " ('地元の方にも人気のある温泉のようで夕方は混み合う',\n",
       "  {'positive': ['人気', '合う'], 'negative': ['混む'], 'score': 0.3333333333333333}),\n",
       " ('そして顔見知りの方々の会話が長く続いている', {'positive': [], 'negative': [], 'score': 0.0}),\n",
       " ('マスク無しでの会話について、ホテル側から特にお願いはないようです（張り紙とか何もなかった）',\n",
       "  {'positive': [], 'negative': [], 'score': 0.0}),\n",
       " ('また、夕食、朝食会場の席が部屋番号ごとに指定されていたが、使ってない席もあるのに分散させていない',\n",
       "  {'positive': [], 'negative': [], 'score': 0.0}),\n",
       " ('改善されれば幸いです', {'positive': ['改善', '幸い'], 'negative': [], 'score': 1.0})]"
      ]
     },
     "execution_count": 46,
     "metadata": {},
     "output_type": "execute_result"
    }
   ],
   "source": [
    "list(zip(broken_up_example_review, init_analyzer.analyze_detail(example_review_for_aspects)))"
   ]
  },
  {
   "cell_type": "markdown",
   "metadata": {},
   "source": [
    "We see that `oseti` analyzes the tokens based on whether they are marked as positive or not. This sentiment analyzer in particular takes into account negation and the double negatives so often seen in the Japanese language.\n",
    "\n",
    "However, this is not perfect. As `oseti` is purely dictionary-based, it can miss out some contextual clues that may change the meaning of the sentence. \n",
    "\n",
    "For instance, the last sentence \"改善されれば幸いです\" (\"kaizen sarereba saiwai desu\"), which translates to \"It would be good if this could be improved\" is in fact a negative statement expressing displeasure, but incorrectly tagged as positive because the words 改善 (improvement) and 幸い (for the best) are tagged individually as positive words.\n",
    "\n",
    "Thus, let us look at a more powerful sentiment analyzer called `asari`, which is able to pick up on more nuanced sentiments."
   ]
  },
  {
   "cell_type": "markdown",
   "metadata": {},
   "source": [
    "### Asari\n",
    "\n",
    "Behold, the power of `asari`."
   ]
  },
  {
   "cell_type": "code",
   "execution_count": 47,
   "metadata": {},
   "outputs": [],
   "source": [
    "# initializing asari sentiment analyzer\n",
    "sonar = Sonar()"
   ]
  },
  {
   "cell_type": "code",
   "execution_count": 48,
   "metadata": {},
   "outputs": [
    {
     "data": {
      "text/plain": [
       "{'text': '【良かった点】・部屋から見える景色が素晴らしく大満足。・フロントの対応が丁寧。【気になった点】・全室禁煙を知らなかった（当方の確認不足もあるが）予約時に禁煙や喫煙の記載がなかったので気にしてなかったが、部屋に灰皿がないのでフロントに電話で聞いたところ、全室禁煙とのこと。施設外まで出る必要があり、イマイチのんびり出来なかった。・部屋の髪の毛白いソファーに長い髪の毛が2本。ソファーが白なので目立ちました。・食事の質とサービス食事の質は普通であり、量もちょうどよかったが、質は宿泊料金に見合ってないように感じた。食事会場では係の方全員が厨房側に入り、会場に誰もいない時間が多々あった。飲み物を追加したいが、係の人が来るまで5分程度待った（大声で呼ぶことも考えたが、周囲のお客様に迷惑と思った）。朝食は席に着いても説明がなく戸惑った。・感染対策浴場と脱衣所でマスクなしでの会話が目立つ（地元の日帰り客のようです）。地元の方にも人気のある温泉のようで夕方は混み合う。そして顔見知りの方々の会話が長く続いている。マスク無しでの会話について、ホテル側から特にお願いはないようです（張り紙とか何もなかった）。また、夕食、朝食会場の席が部屋番号ごとに指定されていたが、使ってない席もあるのに分散させていない。改善されれば幸いです。',\n",
       " 'top_class': 'negative',\n",
       " 'classes': [{'class_name': 'negative', 'confidence': 0.5721551775932312},\n",
       "  {'class_name': 'positive', 'confidence': 0.4278448224067688}]}"
      ]
     },
     "execution_count": 48,
     "metadata": {},
     "output_type": "execute_result"
    }
   ],
   "source": [
    "sonar.ping(example_review_for_aspects)"
   ]
  },
  {
   "cell_type": "code",
   "execution_count": 49,
   "metadata": {},
   "outputs": [
    {
     "data": {
      "text/plain": [
       "[{'text': '【良かった点】・部屋から見える景色が素晴らしく大満足',\n",
       "  'top_class': 'positive',\n",
       "  'classes': [{'class_name': 'negative', 'confidence': 0.018676722422242165},\n",
       "   {'class_name': 'positive', 'confidence': 0.9813232421875}]},\n",
       " {'text': '・フロントの対応が丁寧',\n",
       "  'top_class': 'positive',\n",
       "  'classes': [{'class_name': 'negative', 'confidence': 0.294780969619751},\n",
       "   {'class_name': 'positive', 'confidence': 0.705219030380249}]},\n",
       " {'text': '【気になった点】・全室禁煙を知らなかった（当方の確認不足もあるが）予約時に禁煙や喫煙の記載がなかったので気にしてなかったが、部屋に灰皿がないのでフロントに電話で聞いたところ、全室禁煙とのこと',\n",
       "  'top_class': 'positive',\n",
       "  'classes': [{'class_name': 'negative', 'confidence': 0.4330638349056244},\n",
       "   {'class_name': 'positive', 'confidence': 0.5669361352920532}]},\n",
       " {'text': '施設外まで出る必要があり、イマイチのんびり出来なかった',\n",
       "  'top_class': 'negative',\n",
       "  'classes': [{'class_name': 'negative', 'confidence': 0.5682018995285034},\n",
       "   {'class_name': 'positive', 'confidence': 0.43179813027381897}]},\n",
       " {'text': '・部屋の髪の毛白いソファーに長い髪の毛が2本',\n",
       "  'top_class': 'negative',\n",
       "  'classes': [{'class_name': 'negative', 'confidence': 0.5173860788345337},\n",
       "   {'class_name': 'positive', 'confidence': 0.4826138913631439}]},\n",
       " {'text': 'ソファーが白なので目立ちました',\n",
       "  'top_class': 'positive',\n",
       "  'classes': [{'class_name': 'negative', 'confidence': 0.0026559592224657536},\n",
       "   {'class_name': 'positive', 'confidence': 0.9973440170288086}]},\n",
       " {'text': '・食事の質とサービス食事の質は普通であり、量もちょうどよかったが、質は宿泊料金に見合ってないように感じた',\n",
       "  'top_class': 'positive',\n",
       "  'classes': [{'class_name': 'negative', 'confidence': 0.28355011343955994},\n",
       "   {'class_name': 'positive', 'confidence': 0.7164498567581177}]},\n",
       " {'text': '食事会場では係の方全員が厨房側に入り、会場に誰もいない時間が多々あった',\n",
       "  'top_class': 'negative',\n",
       "  'classes': [{'class_name': 'negative', 'confidence': 0.569825291633606},\n",
       "   {'class_name': 'positive', 'confidence': 0.43017464876174927}]},\n",
       " {'text': '飲み物を追加したいが、係の人が来るまで5分程度待った（大声で呼ぶことも考えたが、周囲のお客様に迷惑と思った）',\n",
       "  'top_class': 'positive',\n",
       "  'classes': [{'class_name': 'negative', 'confidence': 0.47683972120285034},\n",
       "   {'class_name': 'positive', 'confidence': 0.5231602787971497}]},\n",
       " {'text': '朝食は席に着いても説明がなく戸惑った',\n",
       "  'top_class': 'negative',\n",
       "  'classes': [{'class_name': 'negative', 'confidence': 0.5512828230857849},\n",
       "   {'class_name': 'positive', 'confidence': 0.4487171173095703}]},\n",
       " {'text': '・感染対策浴場と脱衣所でマスクなしでの会話が目立つ（地元の日帰り客のようです）',\n",
       "  'top_class': 'positive',\n",
       "  'classes': [{'class_name': 'negative', 'confidence': 0.3710167407989502},\n",
       "   {'class_name': 'positive', 'confidence': 0.6289832592010498}]},\n",
       " {'text': '地元の方にも人気のある温泉のようで夕方は混み合う',\n",
       "  'top_class': 'positive',\n",
       "  'classes': [{'class_name': 'negative', 'confidence': 0.1941142976284027},\n",
       "   {'class_name': 'positive', 'confidence': 0.8058856725692749}]},\n",
       " {'text': 'そして顔見知りの方々の会話が長く続いている',\n",
       "  'top_class': 'positive',\n",
       "  'classes': [{'class_name': 'negative', 'confidence': 0.04756445810198784},\n",
       "   {'class_name': 'positive', 'confidence': 0.9524354934692383}]},\n",
       " {'text': 'マスク無しでの会話について、ホテル側から特にお願いはないようです（張り紙とか何もなかった）',\n",
       "  'top_class': 'positive',\n",
       "  'classes': [{'class_name': 'negative', 'confidence': 0.17140397429466248},\n",
       "   {'class_name': 'positive', 'confidence': 0.8285959959030151}]},\n",
       " {'text': 'また、夕食、朝食会場の席が部屋番号ごとに指定されていたが、使ってない席もあるのに分散させていない',\n",
       "  'top_class': 'positive',\n",
       "  'classes': [{'class_name': 'negative', 'confidence': 0.4193408489227295},\n",
       "   {'class_name': 'positive', 'confidence': 0.5806591510772705}]},\n",
       " {'text': '改善されれば幸いです',\n",
       "  'top_class': 'negative',\n",
       "  'classes': [{'class_name': 'negative', 'confidence': 0.8300549387931824},\n",
       "   {'class_name': 'positive', 'confidence': 0.16994500160217285}]}]"
      ]
     },
     "execution_count": 49,
     "metadata": {},
     "output_type": "execute_result"
    }
   ],
   "source": [
    "[sonar.ping(sentence) for sentence in broken_up_example_review[:-1]]"
   ]
  },
  {
   "cell_type": "markdown",
   "metadata": {},
   "source": [
    "Again, context tells us that `asari` isn't perfect either, though it certainly performs much better than `oseti`. \n",
    "\n",
    "For instance, the sentence \"マスク無しでの会話について、ホテル側から特にお願いはないようです（張り紙とか何もなかった）\", which translates to \"Regarding talking without masks on, the hotel's side did not have any special instructions (not even posters, etc.)\"\n",
    "\n",
    "In the context of the recent COVID-19 pandemic, this would be interpreted as a negative review from a health-conscious guest. In fact, this particular guest actually organized their review in such a way that the positive feedback is all grouped under a \"【良かった点】\" tag (which means \"good points\"), and all the negative feedback is grouped under a \"【気になった点】\" tag (which means something along the lines of \"worrying points\").\n",
    "\n",
    "The majority of the review is under the latter tag, which does indeed match with most of the text except for the sentences regarding the lack of mask-wearing."
   ]
  },
  {
   "cell_type": "markdown",
   "metadata": {},
   "source": [
    "# Feature Engineering - Aspect-Based Sentiment Scores\n",
    "\n",
    "We now shift our attention to identifying the aspects present in each review, and do the following:\n",
    "- Compare the overall sentiment per aspect to the actual score given (if any)\n",
    "- Extract the frequencies of the most common nouns that come up with each aspect.\n",
    "\n",
    "As a reminder, we currently have the function `label_aspect_sentence()` from above, which takes in an individual review and outputs a dictionary of the aspects present in the review, and the sentences that fall under that aspect.\n",
    "\n",
    "We shall use this and the `asari` sentiment analyzer to compute an averaged sentiment score for each review. It is an extremely naïve way to perform an aspect-based sentiment analysis, but in the interest of time, let us see how far this can take us."
   ]
  },
  {
   "cell_type": "code",
   "execution_count": 50,
   "metadata": {},
   "outputs": [],
   "source": [
    "def compute_aspect_sentiment_score_asari(row, analyzer: Sonar, aspect: str):\n",
    "    '''Uses the `asari` sentiment analyzer to assign each review an \n",
    "    averaged sentiment score from all the sentences with a specific aspect `aspect`. \n",
    "\n",
    "    This requires an already instantiated Sonar object from `asari`.\n",
    "\n",
    "    To be used with `df.apply()`.\n",
    "    '''\n",
    "\n",
    "    review_text = row['review_text']\n",
    "\n",
    "    # extracts all the aspects present in the review\n",
    "    # together with their corresponding sentences in the review\n",
    "    aspect_sectence_dict = label_aspects_sentence(review_text)\n",
    "\n",
    "    ##############################################################################\n",
    "    # helper function to extract positive and negative sentiment confidence scores\n",
    "    def get_pos_neg_sentiments(text):\n",
    "        '''This is a helper function to extract out the positive and negative sentiment confidence levels in `text`.\n",
    "\n",
    "        Returns\n",
    "        ---\n",
    "        A tuple `(pos, neg)`, where `pos` is the positive sentiment confidence, and `neg` is the negative sentiment confidence.\n",
    "        '''\n",
    "        sentiment_data = analyzer.ping(text)\n",
    "            \n",
    "        # sentiments are split into positive and negative only\n",
    "        # the output of Sonar().ping is a dictionary, \n",
    "        # where the 'classes' key contains the confidence levels pos and neg of each class\n",
    "        # this is such that pos + neg = 1, think of it as a Bernoulli probability distribution\n",
    "        pos = sentiment_data['classes'][1]['confidence']\n",
    "        neg = sentiment_data['classes'][0]['confidence']\n",
    "\n",
    "        return pos, neg\n",
    "    ##############################################################################\n",
    "\n",
    "    if aspect == 'all':\n",
    "        pos, neg = get_pos_neg_sentiments(review_text)\n",
    "        # the score we shall assign each sentence is pos - neg, essentially the net sentiment\n",
    "        net_sentiment = pos - neg\n",
    "        return net_sentiment\n",
    "    \n",
    "    # checks if the review contains the given aspect\n",
    "    elif aspect in aspect_sectence_dict:\n",
    "        sentiments = []\n",
    "        for sentence in aspect_sectence_dict[aspect]:\n",
    "            pos, neg = get_pos_neg_sentiments(sentence)\n",
    "\n",
    "            # the score we shall assign each sentence is pos - neg, essentially the net sentiment\n",
    "            net_sentiment = pos - neg\n",
    "            sentiments.append(net_sentiment)\n",
    "        \n",
    "        return np.mean(sentiments)\n",
    "    \n",
    "    else: # if aspect is not present in review\n",
    "        return 0\n"
   ]
  },
  {
   "cell_type": "markdown",
   "metadata": {},
   "source": [
    "Now, we populate the sentiment scores for each aspect."
   ]
  },
  {
   "cell_type": "code",
   "execution_count": 51,
   "metadata": {},
   "outputs": [],
   "source": [
    "# helper lookup table for easier population\n",
    "aspect_lookup_table = {\n",
    "    'all': 'overall',\n",
    "    'service': 'service',\n",
    "    'location': 'location',\n",
    "    'room': 'room',\n",
    "    'amenities': 'amenities',\n",
    "    'bathroom': 'bathroom',\n",
    "    'food': 'food'\n",
    "}"
   ]
  },
  {
   "cell_type": "markdown",
   "metadata": {},
   "source": [
    "The sentiment scores will take around 5 minutes to populate. Please be patient when running this."
   ]
  },
  {
   "cell_type": "code",
   "execution_count": 52,
   "metadata": {},
   "outputs": [
    {
     "data": {
      "text/html": [
       "<div>\n",
       "<style scoped>\n",
       "    .dataframe tbody tr th:only-of-type {\n",
       "        vertical-align: middle;\n",
       "    }\n",
       "\n",
       "    .dataframe tbody tr th {\n",
       "        vertical-align: top;\n",
       "    }\n",
       "\n",
       "    .dataframe thead th {\n",
       "        text-align: right;\n",
       "    }\n",
       "</style>\n",
       "<table border=\"1\" class=\"dataframe\">\n",
       "  <thead>\n",
       "    <tr style=\"text-align: right;\">\n",
       "      <th></th>\n",
       "      <th>review_id</th>\n",
       "      <th>review_time</th>\n",
       "      <th>review_text</th>\n",
       "      <th>hotel_reply_time</th>\n",
       "      <th>hotel_reply_text</th>\n",
       "      <th>hotel_name</th>\n",
       "      <th>prefecture</th>\n",
       "      <th>overall_score</th>\n",
       "      <th>service_score</th>\n",
       "      <th>location_score</th>\n",
       "      <th>...</th>\n",
       "      <th>amenities_score</th>\n",
       "      <th>bathroom_score</th>\n",
       "      <th>food_score</th>\n",
       "      <th>overall_sentiment_asari</th>\n",
       "      <th>service_sentiment_asari</th>\n",
       "      <th>location_sentiment_asari</th>\n",
       "      <th>room_sentiment_asari</th>\n",
       "      <th>amenities_sentiment_asari</th>\n",
       "      <th>bathroom_sentiment_asari</th>\n",
       "      <th>food_sentiment_asari</th>\n",
       "    </tr>\n",
       "  </thead>\n",
       "  <tbody>\n",
       "    <tr>\n",
       "      <th>0</th>\n",
       "      <td>voteans_21301527</td>\n",
       "      <td>2024-02-18 01:26:29</td>\n",
       "      <td>家族でのんびり過ごせて良かったです。お料理が美味しかったし、景色も美しかったです。温泉は思ったよりも小さかったですが、泉質は結構よかった。</td>\n",
       "      <td>NaN</td>\n",
       "      <td>NaN</td>\n",
       "      <td>鶴の舞橋と岩木山　絶景の宿　つがる富士見荘</td>\n",
       "      <td>aomori</td>\n",
       "      <td>4</td>\n",
       "      <td>4</td>\n",
       "      <td>4</td>\n",
       "      <td>...</td>\n",
       "      <td>4.0</td>\n",
       "      <td>4.0</td>\n",
       "      <td>5.0</td>\n",
       "      <td>0.990558</td>\n",
       "      <td>0.000000</td>\n",
       "      <td>0.00000</td>\n",
       "      <td>0.000000</td>\n",
       "      <td>0.0</td>\n",
       "      <td>0.967200</td>\n",
       "      <td>0.887214</td>\n",
       "    </tr>\n",
       "    <tr>\n",
       "      <th>1</th>\n",
       "      <td>voteans_21251321</td>\n",
       "      <td>2024-01-29 12:03:50</td>\n",
       "      <td>ロビーからの鶴の舞橋の景観が素晴らしく、雪景色もあって楽しめました。食事も満腹となるほどの量・品数があり、いずれも美味でした。近くに鶴の飼育もなされており、鶴の鳴き合いの声を聴きながらの散策も特別な雰囲気を感じました。、</td>\n",
       "      <td>2024-02-15 18:11:20</td>\n",
       "      <td>この度は当館にご宿泊いただき誠にありがとうございます。ロビーから見える鶴の舞橋と雪化粧した岩木山の姿は、私共も見ていて飽きないほどです。また、お食事の面でもお客様にご満足いただけたようで大変嬉しく思います。丹頂鶴自然公園は1年を通して鶴とのふれあいを楽しめますので、ご機会がございましたらまたのお越しを心よりお待ち申し上げております。</td>\n",
       "      <td>鶴の舞橋と岩木山　絶景の宿　つがる富士見荘</td>\n",
       "      <td>aomori</td>\n",
       "      <td>4</td>\n",
       "      <td>4</td>\n",
       "      <td>5</td>\n",
       "      <td>...</td>\n",
       "      <td>4.0</td>\n",
       "      <td>4.0</td>\n",
       "      <td>4.0</td>\n",
       "      <td>0.980821</td>\n",
       "      <td>0.000000</td>\n",
       "      <td>0.95117</td>\n",
       "      <td>0.000000</td>\n",
       "      <td>0.0</td>\n",
       "      <td>0.000000</td>\n",
       "      <td>0.669060</td>\n",
       "    </tr>\n",
       "    <tr>\n",
       "      <th>2</th>\n",
       "      <td>voteans_21170325</td>\n",
       "      <td>2023-12-26 15:04:31</td>\n",
       "      <td>先日はお世話になりました。夕食を部屋食への変更、ありがとうございました。お食事はとても味付けが良くて、量も適量で、本当にゆっくりと食事が出来て良かったです。大浴場のお湯も、しっとりとしてかけ流しのお湯は気持ち良かったです。なかなか遠いのでまたチャンスがあれば伺いたいと思います。鶴の舞橋が目の前で、圧巻でした。雪が舞い散る鶴の舞橋も幻想的でとても良かったです。また足を運びたいと思います。ありがとうございました。</td>\n",
       "      <td>NaN</td>\n",
       "      <td>NaN</td>\n",
       "      <td>鶴の舞橋と岩木山　絶景の宿　つがる富士見荘</td>\n",
       "      <td>aomori</td>\n",
       "      <td>4</td>\n",
       "      <td>5</td>\n",
       "      <td>5</td>\n",
       "      <td>...</td>\n",
       "      <td>4.0</td>\n",
       "      <td>5.0</td>\n",
       "      <td>5.0</td>\n",
       "      <td>0.999869</td>\n",
       "      <td>0.000000</td>\n",
       "      <td>0.00000</td>\n",
       "      <td>0.996141</td>\n",
       "      <td>0.0</td>\n",
       "      <td>0.615004</td>\n",
       "      <td>0.977256</td>\n",
       "    </tr>\n",
       "    <tr>\n",
       "      <th>3</th>\n",
       "      <td>voteans_21061209</td>\n",
       "      <td>2023-11-21 16:12:52</td>\n",
       "      <td>大変満足でした。お掃除も行き届いていましたしお料理も美味しかったです。お風呂のお湯も豊富で気持ちよかったです。とにかく鶴の舞橋が目の前で素晴らしかったです。</td>\n",
       "      <td>NaN</td>\n",
       "      <td>NaN</td>\n",
       "      <td>鶴の舞橋と岩木山　絶景の宿　つがる富士見荘</td>\n",
       "      <td>aomori</td>\n",
       "      <td>5</td>\n",
       "      <td>4</td>\n",
       "      <td>5</td>\n",
       "      <td>...</td>\n",
       "      <td>3.0</td>\n",
       "      <td>4.0</td>\n",
       "      <td>4.0</td>\n",
       "      <td>0.988815</td>\n",
       "      <td>0.000000</td>\n",
       "      <td>0.00000</td>\n",
       "      <td>0.000000</td>\n",
       "      <td>0.0</td>\n",
       "      <td>0.909405</td>\n",
       "      <td>0.859946</td>\n",
       "    </tr>\n",
       "    <tr>\n",
       "      <th>4</th>\n",
       "      <td>voteans_21031432</td>\n",
       "      <td>2023-11-12 19:16:54</td>\n",
       "      <td>【良かった点】・部屋から見える景色が素晴らしく大満足。・フロントの対応が丁寧。【気になった点】・全室禁煙を知らなかった（当方の確認不足もあるが）予約時に禁煙や喫煙の記載がなかったので気にしてなかったが、部屋に灰皿がないのでフロントに電話で聞いたところ、全室禁煙とのこと。施設外まで出る必要があり、イマイチのんびり出来なかった。・部屋の髪の毛白いソファーに長い髪の毛が2本。ソファーが白なので目立ちました。・食事の質とサービス食事の質は普通であり、量もちょうどよかったが、質は宿泊料金に見合ってないように感じた。食事会場では係の方全員が厨房側に入り、会場に誰もいない時間が多々あった。飲み物を追加したいが、係の人が来るまで5分程度待った（大声で呼ぶことも考えたが、周囲のお客様に迷惑と思った）。朝食は席に着いても説明がなく戸惑った。・感染対策浴場と脱衣所でマスクなしでの会話が目立つ（地元の日帰...</td>\n",
       "      <td>NaN</td>\n",
       "      <td>NaN</td>\n",
       "      <td>鶴の舞橋と岩木山　絶景の宿　つがる富士見荘</td>\n",
       "      <td>aomori</td>\n",
       "      <td>2</td>\n",
       "      <td>2</td>\n",
       "      <td>5</td>\n",
       "      <td>...</td>\n",
       "      <td>3.0</td>\n",
       "      <td>2.0</td>\n",
       "      <td>2.0</td>\n",
       "      <td>-0.144310</td>\n",
       "      <td>0.325737</td>\n",
       "      <td>0.00000</td>\n",
       "      <td>0.331193</td>\n",
       "      <td>0.0</td>\n",
       "      <td>0.434869</td>\n",
       "      <td>0.079664</td>\n",
       "    </tr>\n",
       "  </tbody>\n",
       "</table>\n",
       "<p>5 rows × 21 columns</p>\n",
       "</div>"
      ],
      "text/plain": [
       "          review_id          review_time  \\\n",
       "0  voteans_21301527  2024-02-18 01:26:29   \n",
       "1  voteans_21251321  2024-01-29 12:03:50   \n",
       "2  voteans_21170325  2023-12-26 15:04:31   \n",
       "3  voteans_21061209  2023-11-21 16:12:52   \n",
       "4  voteans_21031432  2023-11-12 19:16:54   \n",
       "\n",
       "                                                                                                                                                                                                                                                                                                                                                                                                       review_text  \\\n",
       "0                                                                                                                                                                                                                                                                                                                                            家族でのんびり過ごせて良かったです。お料理が美味しかったし、景色も美しかったです。温泉は思ったよりも小さかったですが、泉質は結構よかった。   \n",
       "1                                                                                                                                                                                                                                                                                                   ロビーからの鶴の舞橋の景観が素晴らしく、雪景色もあって楽しめました。食事も満腹となるほどの量・品数があり、いずれも美味でした。近くに鶴の飼育もなされており、鶴の鳴き合いの声を聴きながらの散策も特別な雰囲気を感じました。、   \n",
       "2                                                                                                                                                                                                   先日はお世話になりました。夕食を部屋食への変更、ありがとうございました。お食事はとても味付けが良くて、量も適量で、本当にゆっくりと食事が出来て良かったです。大浴場のお湯も、しっとりとしてかけ流しのお湯は気持ち良かったです。なかなか遠いのでまたチャンスがあれば伺いたいと思います。鶴の舞橋が目の前で、圧巻でした。雪が舞い散る鶴の舞橋も幻想的でとても良かったです。また足を運びたいと思います。ありがとうございました。   \n",
       "3                                                                                                                                                                                                                                                                                                                                   大変満足でした。お掃除も行き届いていましたしお料理も美味しかったです。お風呂のお湯も豊富で気持ちよかったです。とにかく鶴の舞橋が目の前で素晴らしかったです。   \n",
       "4  【良かった点】・部屋から見える景色が素晴らしく大満足。・フロントの対応が丁寧。【気になった点】・全室禁煙を知らなかった（当方の確認不足もあるが）予約時に禁煙や喫煙の記載がなかったので気にしてなかったが、部屋に灰皿がないのでフロントに電話で聞いたところ、全室禁煙とのこと。施設外まで出る必要があり、イマイチのんびり出来なかった。・部屋の髪の毛白いソファーに長い髪の毛が2本。ソファーが白なので目立ちました。・食事の質とサービス食事の質は普通であり、量もちょうどよかったが、質は宿泊料金に見合ってないように感じた。食事会場では係の方全員が厨房側に入り、会場に誰もいない時間が多々あった。飲み物を追加したいが、係の人が来るまで5分程度待った（大声で呼ぶことも考えたが、周囲のお客様に迷惑と思った）。朝食は席に着いても説明がなく戸惑った。・感染対策浴場と脱衣所でマスクなしでの会話が目立つ（地元の日帰...   \n",
       "\n",
       "      hotel_reply_time  \\\n",
       "0                  NaN   \n",
       "1  2024-02-15 18:11:20   \n",
       "2                  NaN   \n",
       "3                  NaN   \n",
       "4                  NaN   \n",
       "\n",
       "                                                                                                                                                          hotel_reply_text  \\\n",
       "0                                                                                                                                                                      NaN   \n",
       "1  この度は当館にご宿泊いただき誠にありがとうございます。ロビーから見える鶴の舞橋と雪化粧した岩木山の姿は、私共も見ていて飽きないほどです。また、お食事の面でもお客様にご満足いただけたようで大変嬉しく思います。丹頂鶴自然公園は1年を通して鶴とのふれあいを楽しめますので、ご機会がございましたらまたのお越しを心よりお待ち申し上げております。   \n",
       "2                                                                                                                                                                      NaN   \n",
       "3                                                                                                                                                                      NaN   \n",
       "4                                                                                                                                                                      NaN   \n",
       "\n",
       "              hotel_name prefecture  overall_score  service_score  \\\n",
       "0  鶴の舞橋と岩木山　絶景の宿　つがる富士見荘     aomori              4              4   \n",
       "1  鶴の舞橋と岩木山　絶景の宿　つがる富士見荘     aomori              4              4   \n",
       "2  鶴の舞橋と岩木山　絶景の宿　つがる富士見荘     aomori              4              5   \n",
       "3  鶴の舞橋と岩木山　絶景の宿　つがる富士見荘     aomori              5              4   \n",
       "4  鶴の舞橋と岩木山　絶景の宿　つがる富士見荘     aomori              2              2   \n",
       "\n",
       "   location_score  ...  amenities_score  bathroom_score  food_score  \\\n",
       "0               4  ...              4.0             4.0         5.0   \n",
       "1               5  ...              4.0             4.0         4.0   \n",
       "2               5  ...              4.0             5.0         5.0   \n",
       "3               5  ...              3.0             4.0         4.0   \n",
       "4               5  ...              3.0             2.0         2.0   \n",
       "\n",
       "   overall_sentiment_asari  service_sentiment_asari  location_sentiment_asari  \\\n",
       "0                 0.990558                 0.000000                   0.00000   \n",
       "1                 0.980821                 0.000000                   0.95117   \n",
       "2                 0.999869                 0.000000                   0.00000   \n",
       "3                 0.988815                 0.000000                   0.00000   \n",
       "4                -0.144310                 0.325737                   0.00000   \n",
       "\n",
       "   room_sentiment_asari  amenities_sentiment_asari  bathroom_sentiment_asari  \\\n",
       "0              0.000000                        0.0                  0.967200   \n",
       "1              0.000000                        0.0                  0.000000   \n",
       "2              0.996141                        0.0                  0.615004   \n",
       "3              0.000000                        0.0                  0.909405   \n",
       "4              0.331193                        0.0                  0.434869   \n",
       "\n",
       "   food_sentiment_asari  \n",
       "0              0.887214  \n",
       "1              0.669060  \n",
       "2              0.977256  \n",
       "3              0.859946  \n",
       "4              0.079664  \n",
       "\n",
       "[5 rows x 21 columns]"
      ]
     },
     "execution_count": 52,
     "metadata": {},
     "output_type": "execute_result"
    }
   ],
   "source": [
    "for aspect in aspect_lookup_table:\n",
    "    japanese_reviews_df[f'{aspect_lookup_table[aspect]}_sentiment_asari'] = japanese_reviews_df.apply(compute_aspect_sentiment_score_asari, \n",
    "                                                                                                      axis=1,\n",
    "                                                                                                      analyzer=sonar,\n",
    "                                                                                                      aspect=aspect)\n",
    "japanese_reviews_df.head()"
   ]
  },
  {
   "cell_type": "markdown",
   "metadata": {},
   "source": [
    "For completeness' sake, we can also perform a similar procedure for oseti."
   ]
  },
  {
   "cell_type": "code",
   "execution_count": 53,
   "metadata": {},
   "outputs": [],
   "source": [
    "def compute_aspect_sentiment_score_oseti(row, analyzer: oseti.Analyzer, aspect: str):\n",
    "    '''Uses the `oseti` sentiment analyzer to assign each review an \n",
    "    averaged sentiment score from all the sentences with a specific aspect `aspect`. \n",
    "\n",
    "    This requires an already instantiated Analyzer object from `oseti`.\n",
    "\n",
    "    To be used with `df.apply()`.\n",
    "    '''\n",
    "\n",
    "    review_text = row['review_text']\n",
    "\n",
    "    # extracts all the aspects present in the review\n",
    "    # together with their corresponding sentences in the review\n",
    "    aspect_sectence_dict = label_aspects_sentence(review_text)\n",
    "\n",
    "    ##############################################################################\n",
    "    # helper function to extract positive and negative sentiment confidence scores\n",
    "    def get_net_sentiments(text):\n",
    "        '''This is a helper function to extract out the dictionary-based sentiment levels in `text`.\n",
    "\n",
    "        Returns\n",
    "        ---\n",
    "        A net sentiment confidence.\n",
    "        '''\n",
    "        sentiment_data = analyzer.analyze(text)\n",
    "\n",
    "        return np.mean(sentiment_data)\n",
    "    ##############################################################################\n",
    "\n",
    "    if aspect == 'all':\n",
    "        net_sentiment = get_net_sentiments(review_text)\n",
    "        return net_sentiment\n",
    "    \n",
    "    # checks if the review contains the given aspect\n",
    "    elif aspect in aspect_sectence_dict:\n",
    "        sentiments = []\n",
    "        for sentence in aspect_sectence_dict[aspect]:\n",
    "            net_sentiment = get_net_sentiments(sentence)\n",
    "            sentiments.append(net_sentiment)\n",
    "        \n",
    "        return np.mean(sentiments)\n",
    "    \n",
    "    else: # if aspect is not present in review\n",
    "        return 0\n"
   ]
  },
  {
   "cell_type": "code",
   "execution_count": 54,
   "metadata": {},
   "outputs": [
    {
     "data": {
      "text/html": [
       "<div>\n",
       "<style scoped>\n",
       "    .dataframe tbody tr th:only-of-type {\n",
       "        vertical-align: middle;\n",
       "    }\n",
       "\n",
       "    .dataframe tbody tr th {\n",
       "        vertical-align: top;\n",
       "    }\n",
       "\n",
       "    .dataframe thead th {\n",
       "        text-align: right;\n",
       "    }\n",
       "</style>\n",
       "<table border=\"1\" class=\"dataframe\">\n",
       "  <thead>\n",
       "    <tr style=\"text-align: right;\">\n",
       "      <th></th>\n",
       "      <th>review_id</th>\n",
       "      <th>review_time</th>\n",
       "      <th>review_text</th>\n",
       "      <th>hotel_reply_time</th>\n",
       "      <th>hotel_reply_text</th>\n",
       "      <th>hotel_name</th>\n",
       "      <th>prefecture</th>\n",
       "      <th>overall_score</th>\n",
       "      <th>service_score</th>\n",
       "      <th>location_score</th>\n",
       "      <th>...</th>\n",
       "      <th>amenities_sentiment_asari</th>\n",
       "      <th>bathroom_sentiment_asari</th>\n",
       "      <th>food_sentiment_asari</th>\n",
       "      <th>overall_sentiment_oseti</th>\n",
       "      <th>service_sentiment_oseti</th>\n",
       "      <th>location_sentiment_oseti</th>\n",
       "      <th>room_sentiment_oseti</th>\n",
       "      <th>amenities_sentiment_oseti</th>\n",
       "      <th>bathroom_sentiment_oseti</th>\n",
       "      <th>food_sentiment_oseti</th>\n",
       "    </tr>\n",
       "  </thead>\n",
       "  <tbody>\n",
       "    <tr>\n",
       "      <th>0</th>\n",
       "      <td>voteans_21301527</td>\n",
       "      <td>2024-02-18 01:26:29</td>\n",
       "      <td>家族でのんびり過ごせて良かったです。お料理が美味しかったし、景色も美しかったです。温泉は思ったよりも小さかったですが、泉質は結構よかった。</td>\n",
       "      <td>NaN</td>\n",
       "      <td>NaN</td>\n",
       "      <td>鶴の舞橋と岩木山　絶景の宿　つがる富士見荘</td>\n",
       "      <td>aomori</td>\n",
       "      <td>4</td>\n",
       "      <td>4</td>\n",
       "      <td>4</td>\n",
       "      <td>...</td>\n",
       "      <td>0.0</td>\n",
       "      <td>0.967200</td>\n",
       "      <td>0.887214</td>\n",
       "      <td>1.000000</td>\n",
       "      <td>0.000000</td>\n",
       "      <td>0.0</td>\n",
       "      <td>0.000000</td>\n",
       "      <td>0.0</td>\n",
       "      <td>1.000000</td>\n",
       "      <td>1.000000</td>\n",
       "    </tr>\n",
       "    <tr>\n",
       "      <th>1</th>\n",
       "      <td>voteans_21251321</td>\n",
       "      <td>2024-01-29 12:03:50</td>\n",
       "      <td>ロビーからの鶴の舞橋の景観が素晴らしく、雪景色もあって楽しめました。食事も満腹となるほどの量・品数があり、いずれも美味でした。近くに鶴の飼育もなされており、鶴の鳴き合いの声を聴きながらの散策も特別な雰囲気を感じました。、</td>\n",
       "      <td>2024-02-15 18:11:20</td>\n",
       "      <td>この度は当館にご宿泊いただき誠にありがとうございます。ロビーから見える鶴の舞橋と雪化粧した岩木山の姿は、私共も見ていて飽きないほどです。また、お食事の面でもお客様にご満足いただけたようで大変嬉しく思います。丹頂鶴自然公園は1年を通して鶴とのふれあいを楽しめますので、ご機会がございましたらまたのお越しを心よりお待ち申し上げております。</td>\n",
       "      <td>鶴の舞橋と岩木山　絶景の宿　つがる富士見荘</td>\n",
       "      <td>aomori</td>\n",
       "      <td>4</td>\n",
       "      <td>4</td>\n",
       "      <td>5</td>\n",
       "      <td>...</td>\n",
       "      <td>0.0</td>\n",
       "      <td>0.000000</td>\n",
       "      <td>0.669060</td>\n",
       "      <td>0.750000</td>\n",
       "      <td>0.000000</td>\n",
       "      <td>1.0</td>\n",
       "      <td>0.000000</td>\n",
       "      <td>0.0</td>\n",
       "      <td>0.000000</td>\n",
       "      <td>1.000000</td>\n",
       "    </tr>\n",
       "    <tr>\n",
       "      <th>2</th>\n",
       "      <td>voteans_21170325</td>\n",
       "      <td>2023-12-26 15:04:31</td>\n",
       "      <td>先日はお世話になりました。夕食を部屋食への変更、ありがとうございました。お食事はとても味付けが良くて、量も適量で、本当にゆっくりと食事が出来て良かったです。大浴場のお湯も、しっとりとしてかけ流しのお湯は気持ち良かったです。なかなか遠いのでまたチャンスがあれば伺いたいと思います。鶴の舞橋が目の前で、圧巻でした。雪が舞い散る鶴の舞橋も幻想的でとても良かったです。また足を運びたいと思います。ありがとうございました。</td>\n",
       "      <td>NaN</td>\n",
       "      <td>NaN</td>\n",
       "      <td>鶴の舞橋と岩木山　絶景の宿　つがる富士見荘</td>\n",
       "      <td>aomori</td>\n",
       "      <td>4</td>\n",
       "      <td>5</td>\n",
       "      <td>5</td>\n",
       "      <td>...</td>\n",
       "      <td>0.0</td>\n",
       "      <td>0.615004</td>\n",
       "      <td>0.977256</td>\n",
       "      <td>0.333333</td>\n",
       "      <td>0.000000</td>\n",
       "      <td>0.0</td>\n",
       "      <td>0.000000</td>\n",
       "      <td>0.0</td>\n",
       "      <td>1.000000</td>\n",
       "      <td>0.500000</td>\n",
       "    </tr>\n",
       "    <tr>\n",
       "      <th>3</th>\n",
       "      <td>voteans_21061209</td>\n",
       "      <td>2023-11-21 16:12:52</td>\n",
       "      <td>大変満足でした。お掃除も行き届いていましたしお料理も美味しかったです。お風呂のお湯も豊富で気持ちよかったです。とにかく鶴の舞橋が目の前で素晴らしかったです。</td>\n",
       "      <td>NaN</td>\n",
       "      <td>NaN</td>\n",
       "      <td>鶴の舞橋と岩木山　絶景の宿　つがる富士見荘</td>\n",
       "      <td>aomori</td>\n",
       "      <td>5</td>\n",
       "      <td>4</td>\n",
       "      <td>5</td>\n",
       "      <td>...</td>\n",
       "      <td>0.0</td>\n",
       "      <td>0.909405</td>\n",
       "      <td>0.859946</td>\n",
       "      <td>0.750000</td>\n",
       "      <td>0.000000</td>\n",
       "      <td>0.0</td>\n",
       "      <td>0.000000</td>\n",
       "      <td>0.0</td>\n",
       "      <td>1.000000</td>\n",
       "      <td>1.000000</td>\n",
       "    </tr>\n",
       "    <tr>\n",
       "      <th>4</th>\n",
       "      <td>voteans_21031432</td>\n",
       "      <td>2023-11-12 19:16:54</td>\n",
       "      <td>【良かった点】・部屋から見える景色が素晴らしく大満足。・フロントの対応が丁寧。【気になった点】・全室禁煙を知らなかった（当方の確認不足もあるが）予約時に禁煙や喫煙の記載がなかったので気にしてなかったが、部屋に灰皿がないのでフロントに電話で聞いたところ、全室禁煙とのこと。施設外まで出る必要があり、イマイチのんびり出来なかった。・部屋の髪の毛白いソファーに長い髪の毛が2本。ソファーが白なので目立ちました。・食事の質とサービス食事の質は普通であり、量もちょうどよかったが、質は宿泊料金に見合ってないように感じた。食事会場では係の方全員が厨房側に入り、会場に誰もいない時間が多々あった。飲み物を追加したいが、係の人が来るまで5分程度待った（大声で呼ぶことも考えたが、周囲のお客様に迷惑と思った）。朝食は席に着いても説明がなく戸惑った。・感染対策浴場と脱衣所でマスクなしでの会話が目立つ（地元の日帰...</td>\n",
       "      <td>NaN</td>\n",
       "      <td>NaN</td>\n",
       "      <td>鶴の舞橋と岩木山　絶景の宿　つがる富士見荘</td>\n",
       "      <td>aomori</td>\n",
       "      <td>2</td>\n",
       "      <td>2</td>\n",
       "      <td>5</td>\n",
       "      <td>...</td>\n",
       "      <td>0.0</td>\n",
       "      <td>0.434869</td>\n",
       "      <td>0.079664</td>\n",
       "      <td>0.179167</td>\n",
       "      <td>0.177778</td>\n",
       "      <td>0.0</td>\n",
       "      <td>0.106667</td>\n",
       "      <td>0.0</td>\n",
       "      <td>0.166667</td>\n",
       "      <td>-0.333333</td>\n",
       "    </tr>\n",
       "  </tbody>\n",
       "</table>\n",
       "<p>5 rows × 28 columns</p>\n",
       "</div>"
      ],
      "text/plain": [
       "          review_id          review_time  \\\n",
       "0  voteans_21301527  2024-02-18 01:26:29   \n",
       "1  voteans_21251321  2024-01-29 12:03:50   \n",
       "2  voteans_21170325  2023-12-26 15:04:31   \n",
       "3  voteans_21061209  2023-11-21 16:12:52   \n",
       "4  voteans_21031432  2023-11-12 19:16:54   \n",
       "\n",
       "                                                                                                                                                                                                                                                                                                                                                                                                       review_text  \\\n",
       "0                                                                                                                                                                                                                                                                                                                                            家族でのんびり過ごせて良かったです。お料理が美味しかったし、景色も美しかったです。温泉は思ったよりも小さかったですが、泉質は結構よかった。   \n",
       "1                                                                                                                                                                                                                                                                                                   ロビーからの鶴の舞橋の景観が素晴らしく、雪景色もあって楽しめました。食事も満腹となるほどの量・品数があり、いずれも美味でした。近くに鶴の飼育もなされており、鶴の鳴き合いの声を聴きながらの散策も特別な雰囲気を感じました。、   \n",
       "2                                                                                                                                                                                                   先日はお世話になりました。夕食を部屋食への変更、ありがとうございました。お食事はとても味付けが良くて、量も適量で、本当にゆっくりと食事が出来て良かったです。大浴場のお湯も、しっとりとしてかけ流しのお湯は気持ち良かったです。なかなか遠いのでまたチャンスがあれば伺いたいと思います。鶴の舞橋が目の前で、圧巻でした。雪が舞い散る鶴の舞橋も幻想的でとても良かったです。また足を運びたいと思います。ありがとうございました。   \n",
       "3                                                                                                                                                                                                                                                                                                                                   大変満足でした。お掃除も行き届いていましたしお料理も美味しかったです。お風呂のお湯も豊富で気持ちよかったです。とにかく鶴の舞橋が目の前で素晴らしかったです。   \n",
       "4  【良かった点】・部屋から見える景色が素晴らしく大満足。・フロントの対応が丁寧。【気になった点】・全室禁煙を知らなかった（当方の確認不足もあるが）予約時に禁煙や喫煙の記載がなかったので気にしてなかったが、部屋に灰皿がないのでフロントに電話で聞いたところ、全室禁煙とのこと。施設外まで出る必要があり、イマイチのんびり出来なかった。・部屋の髪の毛白いソファーに長い髪の毛が2本。ソファーが白なので目立ちました。・食事の質とサービス食事の質は普通であり、量もちょうどよかったが、質は宿泊料金に見合ってないように感じた。食事会場では係の方全員が厨房側に入り、会場に誰もいない時間が多々あった。飲み物を追加したいが、係の人が来るまで5分程度待った（大声で呼ぶことも考えたが、周囲のお客様に迷惑と思った）。朝食は席に着いても説明がなく戸惑った。・感染対策浴場と脱衣所でマスクなしでの会話が目立つ（地元の日帰...   \n",
       "\n",
       "      hotel_reply_time  \\\n",
       "0                  NaN   \n",
       "1  2024-02-15 18:11:20   \n",
       "2                  NaN   \n",
       "3                  NaN   \n",
       "4                  NaN   \n",
       "\n",
       "                                                                                                                                                          hotel_reply_text  \\\n",
       "0                                                                                                                                                                      NaN   \n",
       "1  この度は当館にご宿泊いただき誠にありがとうございます。ロビーから見える鶴の舞橋と雪化粧した岩木山の姿は、私共も見ていて飽きないほどです。また、お食事の面でもお客様にご満足いただけたようで大変嬉しく思います。丹頂鶴自然公園は1年を通して鶴とのふれあいを楽しめますので、ご機会がございましたらまたのお越しを心よりお待ち申し上げております。   \n",
       "2                                                                                                                                                                      NaN   \n",
       "3                                                                                                                                                                      NaN   \n",
       "4                                                                                                                                                                      NaN   \n",
       "\n",
       "              hotel_name prefecture  overall_score  service_score  \\\n",
       "0  鶴の舞橋と岩木山　絶景の宿　つがる富士見荘     aomori              4              4   \n",
       "1  鶴の舞橋と岩木山　絶景の宿　つがる富士見荘     aomori              4              4   \n",
       "2  鶴の舞橋と岩木山　絶景の宿　つがる富士見荘     aomori              4              5   \n",
       "3  鶴の舞橋と岩木山　絶景の宿　つがる富士見荘     aomori              5              4   \n",
       "4  鶴の舞橋と岩木山　絶景の宿　つがる富士見荘     aomori              2              2   \n",
       "\n",
       "   location_score  ...  amenities_sentiment_asari  bathroom_sentiment_asari  \\\n",
       "0               4  ...                        0.0                  0.967200   \n",
       "1               5  ...                        0.0                  0.000000   \n",
       "2               5  ...                        0.0                  0.615004   \n",
       "3               5  ...                        0.0                  0.909405   \n",
       "4               5  ...                        0.0                  0.434869   \n",
       "\n",
       "   food_sentiment_asari  overall_sentiment_oseti  service_sentiment_oseti  \\\n",
       "0              0.887214                 1.000000                 0.000000   \n",
       "1              0.669060                 0.750000                 0.000000   \n",
       "2              0.977256                 0.333333                 0.000000   \n",
       "3              0.859946                 0.750000                 0.000000   \n",
       "4              0.079664                 0.179167                 0.177778   \n",
       "\n",
       "   location_sentiment_oseti  room_sentiment_oseti  amenities_sentiment_oseti  \\\n",
       "0                       0.0              0.000000                        0.0   \n",
       "1                       1.0              0.000000                        0.0   \n",
       "2                       0.0              0.000000                        0.0   \n",
       "3                       0.0              0.000000                        0.0   \n",
       "4                       0.0              0.106667                        0.0   \n",
       "\n",
       "   bathroom_sentiment_oseti  food_sentiment_oseti  \n",
       "0                  1.000000              1.000000  \n",
       "1                  0.000000              1.000000  \n",
       "2                  1.000000              0.500000  \n",
       "3                  1.000000              1.000000  \n",
       "4                  0.166667             -0.333333  \n",
       "\n",
       "[5 rows x 28 columns]"
      ]
     },
     "execution_count": 54,
     "metadata": {},
     "output_type": "execute_result"
    }
   ],
   "source": [
    "for aspect in aspect_lookup_table:\n",
    "    japanese_reviews_df[f'{aspect_lookup_table[aspect]}_sentiment_oseti'] = japanese_reviews_df.apply(compute_aspect_sentiment_score_oseti, \n",
    "                                                                                                      axis=1,\n",
    "                                                                                                      analyzer=init_analyzer,\n",
    "                                                                                                      aspect=aspect)\n",
    "japanese_reviews_df.head()"
   ]
  },
  {
   "cell_type": "markdown",
   "metadata": {},
   "source": [
    "Perfect, now we can export this to another `.csv` file, and start a proper analysis of the sentiments from there."
   ]
  },
  {
   "cell_type": "code",
   "execution_count": 55,
   "metadata": {},
   "outputs": [],
   "source": [
    "japanese_reviews_df.to_csv('../datasets/rakuten_tohoku_reviews_sentiments.csv', index=False)"
   ]
  }
 ],
 "metadata": {
  "kernelspec": {
   "display_name": "base",
   "language": "python",
   "name": "python3"
  },
  "language_info": {
   "codemirror_mode": {
    "name": "ipython",
    "version": 3
   },
   "file_extension": ".py",
   "mimetype": "text/x-python",
   "name": "python",
   "nbconvert_exporter": "python",
   "pygments_lexer": "ipython3",
   "version": "3.11.5"
  }
 },
 "nbformat": 4,
 "nbformat_minor": 2
}
